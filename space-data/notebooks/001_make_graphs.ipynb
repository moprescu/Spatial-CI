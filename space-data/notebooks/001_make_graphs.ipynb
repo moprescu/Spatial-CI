{
 "cells": [
  {
   "cell_type": "markdown",
   "id": "b5882c76-6646-4f2f-ba95-c6fc84de7c60",
   "metadata": {},
   "source": [
    "# Graph of US counties and census tracts\n",
    "\n",
    "This notebook creates a graph based on US counties and census tract administrative units.\n",
    "\n",
    "In order to create the graph, we use [the Tiger shapefiles](https://www.census.gov/geographies/mapping-files/time-series/geo/tiger-line-file.2020.html#list-tab-790442341)."
   ]
  },
  {
   "cell_type": "code",
   "execution_count": 33,
   "id": "cc5bce28-d2cd-400d-83f6-98d960e83302",
   "metadata": {
    "execution": {
     "iopub.execute_input": "2025-07-17T00:50:53.518406Z",
     "iopub.status.busy": "2025-07-17T00:50:53.518101Z",
     "iopub.status.idle": "2025-07-17T00:50:53.520908Z",
     "shell.execute_reply": "2025-07-17T00:50:53.520480Z",
     "shell.execute_reply.started": "2025-07-17T00:50:53.518386Z"
    },
    "tags": []
   },
   "outputs": [],
   "source": [
    "import geopandas as gpd\n",
    "import pandas as pd\n",
    "import networkx as nx"
   ]
  },
  {
   "cell_type": "code",
   "execution_count": 34,
   "id": "11c7ff38-2519-4daa-ab8f-b3e4e0eea0b1",
   "metadata": {
    "execution": {
     "iopub.execute_input": "2025-07-17T00:50:54.727263Z",
     "iopub.status.busy": "2025-07-17T00:50:54.726952Z",
     "iopub.status.idle": "2025-07-17T00:50:54.732153Z",
     "shell.execute_reply": "2025-07-17T00:50:54.731719Z",
     "shell.execute_reply.started": "2025-07-17T00:50:54.727242Z"
    },
    "tags": []
   },
   "outputs": [],
   "source": [
    "def create_graph(tracts, ix=\"GEOID\", lon=\"INTPTLON\", lat=\"INTPTLAT\"):\n",
    "    geom = tracts.set_index(ix)\n",
    "\n",
    "    L = tracts[[ix, lat, lon]].set_index(ix)\n",
    "    L[lat] = L[lat].astype(\"float\")\n",
    "    L[lon] = L[lon].astype(\"float\")\n",
    "\n",
    "    feats = [c for c in L.columns if c != \"geometry\"]\n",
    "\n",
    "    g = nx.Graph()\n",
    "    g.add_nodes_from(geom.index.values)\n",
    "\n",
    "    # make edge list from GeoPandas DataFrame\n",
    "    edge_list = []\n",
    "    for index, row in geom.iterrows():\n",
    "        for f in feats:\n",
    "            g.nodes[index][f] = L.loc[index][f]\n",
    "        \n",
    "        nbrs = geom[geom.geometry.touches(row.geometry)].index.values\n",
    "        for nbr in nbrs:\n",
    "            edge_list.append((index, nbr))\n",
    "    g.add_edges_from(edge_list)\n",
    "    return g"
   ]
  },
  {
   "cell_type": "markdown",
   "id": "b1cd073a-3a13-4b2d-ad93-00d5739cf3d0",
   "metadata": {},
   "source": [
    "## CA census tract graph"
   ]
  },
  {
   "cell_type": "code",
   "execution_count": 48,
   "id": "03cd4ea7-f62f-4cb4-8d79-c44a47806e79",
   "metadata": {
    "execution": {
     "iopub.execute_input": "2025-07-17T01:09:59.152810Z",
     "iopub.status.busy": "2025-07-17T01:09:59.152497Z",
     "iopub.status.idle": "2025-07-17T01:10:00.313103Z",
     "shell.execute_reply": "2025-07-17T01:10:00.312490Z",
     "shell.execute_reply.started": "2025-07-17T01:09:59.152790Z"
    },
    "tags": []
   },
   "outputs": [
    {
     "ename": "TypeError",
     "evalue": "(<class 'geopandas.geoseries.GeoSeries'>, <class 'NoneType'>)",
     "output_type": "error",
     "traceback": [
      "\u001b[0;31m---------------------------------------------------------------------------\u001b[0m",
      "\u001b[0;31mTypeError\u001b[0m                                 Traceback (most recent call last)",
      "Cell \u001b[0;32mIn[48], line 1\u001b[0m\n\u001b[0;32m----> 1\u001b[0m g \u001b[38;5;241m=\u001b[39m \u001b[43mcreate_graph\u001b[49m\u001b[43m(\u001b[49m\u001b[43mgpd\u001b[49m\u001b[38;5;241;43m.\u001b[39;49m\u001b[43mread_file\u001b[49m\u001b[43m(\u001b[49m\u001b[38;5;124;43m\"\u001b[39;49m\u001b[38;5;124;43mshapefiles/tl_2020_06_tract/tl_2020_06_tract.shp\u001b[39;49m\u001b[38;5;124;43m\"\u001b[39;49m\u001b[43m)\u001b[49m\u001b[43m)\u001b[49m\n\u001b[1;32m      2\u001b[0m nx\u001b[38;5;241m.\u001b[39mwrite_graphml(g, \u001b[38;5;124m\"\u001b[39m\u001b[38;5;124m../data/ca_tracts.graphml\u001b[39m\u001b[38;5;124m\"\u001b[39m)\n",
      "Cell \u001b[0;32mIn[34], line 19\u001b[0m, in \u001b[0;36mcreate_graph\u001b[0;34m(tracts, ix, lon, lat)\u001b[0m\n\u001b[1;32m     16\u001b[0m \u001b[38;5;28;01mfor\u001b[39;00m f \u001b[38;5;129;01min\u001b[39;00m feats:\n\u001b[1;32m     17\u001b[0m     g\u001b[38;5;241m.\u001b[39mnodes[index][f] \u001b[38;5;241m=\u001b[39m L\u001b[38;5;241m.\u001b[39mloc[index][f]\n\u001b[0;32m---> 19\u001b[0m nbrs \u001b[38;5;241m=\u001b[39m geom[\u001b[43mgeom\u001b[49m\u001b[38;5;241;43m.\u001b[39;49m\u001b[43mgeometry\u001b[49m\u001b[38;5;241;43m.\u001b[39;49m\u001b[43mtouches\u001b[49m\u001b[43m(\u001b[49m\u001b[43mrow\u001b[49m\u001b[38;5;241;43m.\u001b[39;49m\u001b[43mgeometry\u001b[49m\u001b[43m)\u001b[49m]\u001b[38;5;241m.\u001b[39mindex\u001b[38;5;241m.\u001b[39mvalues\n\u001b[1;32m     20\u001b[0m \u001b[38;5;28;01mfor\u001b[39;00m nbr \u001b[38;5;129;01min\u001b[39;00m nbrs:\n\u001b[1;32m     21\u001b[0m     edge_list\u001b[38;5;241m.\u001b[39mappend((index, nbr))\n",
      "File \u001b[0;32m~/workspace/Temporary/akhot2/scratch/spacedata/lib/python3.10/site-packages/geopandas/base.py:3767\u001b[0m, in \u001b[0;36mGeoPandasBase.touches\u001b[0;34m(self, other, align)\u001b[0m\n\u001b[1;32m   3657\u001b[0m \u001b[38;5;28;01mdef\u001b[39;00m\u001b[38;5;250m \u001b[39m\u001b[38;5;21mtouches\u001b[39m(\u001b[38;5;28mself\u001b[39m, other, align\u001b[38;5;241m=\u001b[39m\u001b[38;5;28;01mNone\u001b[39;00m):\n\u001b[1;32m   3658\u001b[0m \u001b[38;5;250m    \u001b[39m\u001b[38;5;124;03m\"\"\"Returns a ``Series`` of ``dtype('bool')`` with value ``True`` for\u001b[39;00m\n\u001b[1;32m   3659\u001b[0m \u001b[38;5;124;03m    each aligned geometry that touches `other`.\u001b[39;00m\n\u001b[1;32m   3660\u001b[0m \n\u001b[0;32m   (...)\u001b[0m\n\u001b[1;32m   3765\u001b[0m \n\u001b[1;32m   3766\u001b[0m \u001b[38;5;124;03m    \"\"\"\u001b[39;00m\n\u001b[0;32m-> 3767\u001b[0m     \u001b[38;5;28;01mreturn\u001b[39;00m \u001b[43m_binary_op\u001b[49m\u001b[43m(\u001b[49m\u001b[38;5;124;43m\"\u001b[39;49m\u001b[38;5;124;43mtouches\u001b[39;49m\u001b[38;5;124;43m\"\u001b[39;49m\u001b[43m,\u001b[49m\u001b[43m \u001b[49m\u001b[38;5;28;43mself\u001b[39;49m\u001b[43m,\u001b[49m\u001b[43m \u001b[49m\u001b[43mother\u001b[49m\u001b[43m,\u001b[49m\u001b[43m \u001b[49m\u001b[43malign\u001b[49m\u001b[43m)\u001b[49m\n",
      "File \u001b[0;32m~/workspace/Temporary/akhot2/scratch/spacedata/lib/python3.10/site-packages/geopandas/base.py:87\u001b[0m, in \u001b[0;36m_binary_op\u001b[0;34m(op, this, other, align, *args, **kwargs)\u001b[0m\n\u001b[1;32m     84\u001b[0m \u001b[38;5;28;01mdef\u001b[39;00m\u001b[38;5;250m \u001b[39m\u001b[38;5;21m_binary_op\u001b[39m(op, this, other, align, \u001b[38;5;241m*\u001b[39margs, \u001b[38;5;241m*\u001b[39m\u001b[38;5;241m*\u001b[39mkwargs):\n\u001b[1;32m     85\u001b[0m     \u001b[38;5;66;03m# type: (str, GeoSeries, GeoSeries, args/kwargs) -> Series[bool/float]\u001b[39;00m\n\u001b[1;32m     86\u001b[0m \u001b[38;5;250m    \u001b[39m\u001b[38;5;124;03m\"\"\"Binary operation on GeoSeries objects that returns a Series\"\"\"\u001b[39;00m\n\u001b[0;32m---> 87\u001b[0m     data, index \u001b[38;5;241m=\u001b[39m \u001b[43m_delegate_binary_method\u001b[49m\u001b[43m(\u001b[49m\u001b[43mop\u001b[49m\u001b[43m,\u001b[49m\u001b[43m \u001b[49m\u001b[43mthis\u001b[49m\u001b[43m,\u001b[49m\u001b[43m \u001b[49m\u001b[43mother\u001b[49m\u001b[43m,\u001b[49m\u001b[43m \u001b[49m\u001b[43malign\u001b[49m\u001b[43m,\u001b[49m\u001b[43m \u001b[49m\u001b[38;5;241;43m*\u001b[39;49m\u001b[43margs\u001b[49m\u001b[43m,\u001b[49m\u001b[43m \u001b[49m\u001b[38;5;241;43m*\u001b[39;49m\u001b[38;5;241;43m*\u001b[39;49m\u001b[43mkwargs\u001b[49m\u001b[43m)\u001b[49m\n\u001b[1;32m     88\u001b[0m     \u001b[38;5;28;01mreturn\u001b[39;00m Series(data, index\u001b[38;5;241m=\u001b[39mindex)\n",
      "File \u001b[0;32m~/workspace/Temporary/akhot2/scratch/spacedata/lib/python3.10/site-packages/geopandas/base.py:69\u001b[0m, in \u001b[0;36m_delegate_binary_method\u001b[0;34m(op, this, other, align, *args, **kwargs)\u001b[0m\n\u001b[1;32m     67\u001b[0m     a_this \u001b[38;5;241m=\u001b[39m GeometryArray(this\u001b[38;5;241m.\u001b[39mvalues)\n\u001b[1;32m     68\u001b[0m \u001b[38;5;28;01melse\u001b[39;00m:\n\u001b[0;32m---> 69\u001b[0m     \u001b[38;5;28;01mraise\u001b[39;00m \u001b[38;5;167;01mTypeError\u001b[39;00m(\u001b[38;5;28mtype\u001b[39m(this), \u001b[38;5;28mtype\u001b[39m(other))\n\u001b[1;32m     71\u001b[0m data \u001b[38;5;241m=\u001b[39m \u001b[38;5;28mgetattr\u001b[39m(a_this, op)(other, \u001b[38;5;241m*\u001b[39margs, \u001b[38;5;241m*\u001b[39m\u001b[38;5;241m*\u001b[39mkwargs)\n\u001b[1;32m     72\u001b[0m \u001b[38;5;28;01mreturn\u001b[39;00m data, this\u001b[38;5;241m.\u001b[39mindex\n",
      "\u001b[0;31mTypeError\u001b[0m: (<class 'geopandas.geoseries.GeoSeries'>, <class 'NoneType'>)"
     ]
    }
   ],
   "source": [
    "g = create_graph(gpd.read_file(\"shapefiles/tl_2020_06_tract/tl_2020_06_tract.shp\"))\n",
    "nx.write_graphml(g, \"../data/ca_tracts.graphml\")"
   ]
  },
  {
   "cell_type": "markdown",
   "id": "89371969-c874-46b6-83e9-2578195f3e1a",
   "metadata": {},
   "source": [
    "## TX census tract graph"
   ]
  },
  {
   "cell_type": "code",
   "execution_count": 30,
   "id": "f311653d-8c3c-478c-8879-60e0ceee1d1b",
   "metadata": {
    "execution": {
     "iopub.execute_input": "2025-07-16T22:11:05.518267Z",
     "iopub.status.busy": "2025-07-16T22:11:05.517890Z",
     "iopub.status.idle": "2025-07-16T22:11:23.221794Z",
     "shell.execute_reply": "2025-07-16T22:11:23.221074Z",
     "shell.execute_reply.started": "2025-07-16T22:11:05.518247Z"
    },
    "tags": []
   },
   "outputs": [],
   "source": [
    "g = create_graph(gpd.read_file(\"shapefiles/tl_2020_48_tract/tl_2020_48_tract.shp\"))\n",
    "nx.write_graphml(g, \"../data/tx_tracts.graphml\")"
   ]
  },
  {
   "cell_type": "markdown",
   "id": "5983865c-591d-4eec-8353-f42e8344e30b",
   "metadata": {},
   "source": [
    "## Counties"
   ]
  },
  {
   "cell_type": "code",
   "execution_count": 44,
   "id": "7c4bd9be-0063-4987-ae6e-9a7ecb54e2da",
   "metadata": {
    "execution": {
     "iopub.execute_input": "2025-07-17T01:05:47.187305Z",
     "iopub.status.busy": "2025-07-17T01:05:47.186988Z",
     "iopub.status.idle": "2025-07-17T01:05:47.477012Z",
     "shell.execute_reply": "2025-07-17T01:05:47.476545Z",
     "shell.execute_reply.started": "2025-07-17T01:05:47.187284Z"
    },
    "tags": []
   },
   "outputs": [],
   "source": [
    "counties = gpd.read_file(\"shapefiles/tl_2010_us_county10/tl_2010_us_county10.shp\")\n",
    "counties = counties[~counties.STATEFP10.isin([\"02\", \"72\", \"78\", \"15\"])]"
   ]
  },
  {
   "cell_type": "code",
   "execution_count": 46,
   "id": "256353de-7013-4a44-baa7-3afde38320da",
   "metadata": {
    "execution": {
     "iopub.execute_input": "2025-07-17T01:06:02.503627Z",
     "iopub.status.busy": "2025-07-17T01:06:02.503313Z",
     "iopub.status.idle": "2025-07-17T01:06:22.354831Z",
     "shell.execute_reply": "2025-07-17T01:06:22.354211Z",
     "shell.execute_reply.started": "2025-07-17T01:06:02.503605Z"
    },
    "tags": []
   },
   "outputs": [
    {
     "ename": "TypeError",
     "evalue": "(<class 'geopandas.geoseries.GeoSeries'>, <class 'NoneType'>)",
     "output_type": "error",
     "traceback": [
      "\u001b[0;31m---------------------------------------------------------------------------\u001b[0m",
      "\u001b[0;31mTypeError\u001b[0m                                 Traceback (most recent call last)",
      "Cell \u001b[0;32mIn[46], line 1\u001b[0m\n\u001b[0;32m----> 1\u001b[0m g \u001b[38;5;241m=\u001b[39m \u001b[43mcreate_graph\u001b[49m\u001b[43m(\u001b[49m\u001b[43mcounties\u001b[49m\u001b[43m,\u001b[49m\u001b[43m \u001b[49m\u001b[43mix\u001b[49m\u001b[38;5;241;43m=\u001b[39;49m\u001b[38;5;124;43m\"\u001b[39;49m\u001b[38;5;124;43mGEOID10\u001b[39;49m\u001b[38;5;124;43m\"\u001b[39;49m\u001b[43m,\u001b[49m\u001b[43m \u001b[49m\u001b[43mlon\u001b[49m\u001b[38;5;241;43m=\u001b[39;49m\u001b[38;5;124;43m\"\u001b[39;49m\u001b[38;5;124;43mINTPTLON10\u001b[39;49m\u001b[38;5;124;43m\"\u001b[39;49m\u001b[43m,\u001b[49m\u001b[43m \u001b[49m\u001b[43mlat\u001b[49m\u001b[38;5;241;43m=\u001b[39;49m\u001b[38;5;124;43m\"\u001b[39;49m\u001b[38;5;124;43mINTPTLAT10\u001b[39;49m\u001b[38;5;124;43m\"\u001b[39;49m\u001b[43m)\u001b[49m\n\u001b[1;32m      2\u001b[0m nx\u001b[38;5;241m.\u001b[39mwrite_graphml(g, \u001b[38;5;124m\"\u001b[39m\u001b[38;5;124m../data/counties_f.graphml\u001b[39m\u001b[38;5;124m\"\u001b[39m)\n",
      "Cell \u001b[0;32mIn[34], line 19\u001b[0m, in \u001b[0;36mcreate_graph\u001b[0;34m(tracts, ix, lon, lat)\u001b[0m\n\u001b[1;32m     16\u001b[0m \u001b[38;5;28;01mfor\u001b[39;00m f \u001b[38;5;129;01min\u001b[39;00m feats:\n\u001b[1;32m     17\u001b[0m     g\u001b[38;5;241m.\u001b[39mnodes[index][f] \u001b[38;5;241m=\u001b[39m L\u001b[38;5;241m.\u001b[39mloc[index][f]\n\u001b[0;32m---> 19\u001b[0m nbrs \u001b[38;5;241m=\u001b[39m geom[\u001b[43mgeom\u001b[49m\u001b[38;5;241;43m.\u001b[39;49m\u001b[43mgeometry\u001b[49m\u001b[38;5;241;43m.\u001b[39;49m\u001b[43mtouches\u001b[49m\u001b[43m(\u001b[49m\u001b[43mrow\u001b[49m\u001b[38;5;241;43m.\u001b[39;49m\u001b[43mgeometry\u001b[49m\u001b[43m)\u001b[49m]\u001b[38;5;241m.\u001b[39mindex\u001b[38;5;241m.\u001b[39mvalues\n\u001b[1;32m     20\u001b[0m \u001b[38;5;28;01mfor\u001b[39;00m nbr \u001b[38;5;129;01min\u001b[39;00m nbrs:\n\u001b[1;32m     21\u001b[0m     edge_list\u001b[38;5;241m.\u001b[39mappend((index, nbr))\n",
      "File \u001b[0;32m~/workspace/Temporary/akhot2/scratch/spacedata/lib/python3.10/site-packages/geopandas/base.py:3767\u001b[0m, in \u001b[0;36mGeoPandasBase.touches\u001b[0;34m(self, other, align)\u001b[0m\n\u001b[1;32m   3657\u001b[0m \u001b[38;5;28;01mdef\u001b[39;00m\u001b[38;5;250m \u001b[39m\u001b[38;5;21mtouches\u001b[39m(\u001b[38;5;28mself\u001b[39m, other, align\u001b[38;5;241m=\u001b[39m\u001b[38;5;28;01mNone\u001b[39;00m):\n\u001b[1;32m   3658\u001b[0m \u001b[38;5;250m    \u001b[39m\u001b[38;5;124;03m\"\"\"Returns a ``Series`` of ``dtype('bool')`` with value ``True`` for\u001b[39;00m\n\u001b[1;32m   3659\u001b[0m \u001b[38;5;124;03m    each aligned geometry that touches `other`.\u001b[39;00m\n\u001b[1;32m   3660\u001b[0m \n\u001b[0;32m   (...)\u001b[0m\n\u001b[1;32m   3765\u001b[0m \n\u001b[1;32m   3766\u001b[0m \u001b[38;5;124;03m    \"\"\"\u001b[39;00m\n\u001b[0;32m-> 3767\u001b[0m     \u001b[38;5;28;01mreturn\u001b[39;00m \u001b[43m_binary_op\u001b[49m\u001b[43m(\u001b[49m\u001b[38;5;124;43m\"\u001b[39;49m\u001b[38;5;124;43mtouches\u001b[39;49m\u001b[38;5;124;43m\"\u001b[39;49m\u001b[43m,\u001b[49m\u001b[43m \u001b[49m\u001b[38;5;28;43mself\u001b[39;49m\u001b[43m,\u001b[49m\u001b[43m \u001b[49m\u001b[43mother\u001b[49m\u001b[43m,\u001b[49m\u001b[43m \u001b[49m\u001b[43malign\u001b[49m\u001b[43m)\u001b[49m\n",
      "File \u001b[0;32m~/workspace/Temporary/akhot2/scratch/spacedata/lib/python3.10/site-packages/geopandas/base.py:87\u001b[0m, in \u001b[0;36m_binary_op\u001b[0;34m(op, this, other, align, *args, **kwargs)\u001b[0m\n\u001b[1;32m     84\u001b[0m \u001b[38;5;28;01mdef\u001b[39;00m\u001b[38;5;250m \u001b[39m\u001b[38;5;21m_binary_op\u001b[39m(op, this, other, align, \u001b[38;5;241m*\u001b[39margs, \u001b[38;5;241m*\u001b[39m\u001b[38;5;241m*\u001b[39mkwargs):\n\u001b[1;32m     85\u001b[0m     \u001b[38;5;66;03m# type: (str, GeoSeries, GeoSeries, args/kwargs) -> Series[bool/float]\u001b[39;00m\n\u001b[1;32m     86\u001b[0m \u001b[38;5;250m    \u001b[39m\u001b[38;5;124;03m\"\"\"Binary operation on GeoSeries objects that returns a Series\"\"\"\u001b[39;00m\n\u001b[0;32m---> 87\u001b[0m     data, index \u001b[38;5;241m=\u001b[39m \u001b[43m_delegate_binary_method\u001b[49m\u001b[43m(\u001b[49m\u001b[43mop\u001b[49m\u001b[43m,\u001b[49m\u001b[43m \u001b[49m\u001b[43mthis\u001b[49m\u001b[43m,\u001b[49m\u001b[43m \u001b[49m\u001b[43mother\u001b[49m\u001b[43m,\u001b[49m\u001b[43m \u001b[49m\u001b[43malign\u001b[49m\u001b[43m,\u001b[49m\u001b[43m \u001b[49m\u001b[38;5;241;43m*\u001b[39;49m\u001b[43margs\u001b[49m\u001b[43m,\u001b[49m\u001b[43m \u001b[49m\u001b[38;5;241;43m*\u001b[39;49m\u001b[38;5;241;43m*\u001b[39;49m\u001b[43mkwargs\u001b[49m\u001b[43m)\u001b[49m\n\u001b[1;32m     88\u001b[0m     \u001b[38;5;28;01mreturn\u001b[39;00m Series(data, index\u001b[38;5;241m=\u001b[39mindex)\n",
      "File \u001b[0;32m~/workspace/Temporary/akhot2/scratch/spacedata/lib/python3.10/site-packages/geopandas/base.py:69\u001b[0m, in \u001b[0;36m_delegate_binary_method\u001b[0;34m(op, this, other, align, *args, **kwargs)\u001b[0m\n\u001b[1;32m     67\u001b[0m     a_this \u001b[38;5;241m=\u001b[39m GeometryArray(this\u001b[38;5;241m.\u001b[39mvalues)\n\u001b[1;32m     68\u001b[0m \u001b[38;5;28;01melse\u001b[39;00m:\n\u001b[0;32m---> 69\u001b[0m     \u001b[38;5;28;01mraise\u001b[39;00m \u001b[38;5;167;01mTypeError\u001b[39;00m(\u001b[38;5;28mtype\u001b[39m(this), \u001b[38;5;28mtype\u001b[39m(other))\n\u001b[1;32m     71\u001b[0m data \u001b[38;5;241m=\u001b[39m \u001b[38;5;28mgetattr\u001b[39m(a_this, op)(other, \u001b[38;5;241m*\u001b[39margs, \u001b[38;5;241m*\u001b[39m\u001b[38;5;241m*\u001b[39mkwargs)\n\u001b[1;32m     72\u001b[0m \u001b[38;5;28;01mreturn\u001b[39;00m data, this\u001b[38;5;241m.\u001b[39mindex\n",
      "\u001b[0;31mTypeError\u001b[0m: (<class 'geopandas.geoseries.GeoSeries'>, <class 'NoneType'>)"
     ]
    }
   ],
   "source": [
    "g = create_graph(counties, ix=\"GEOID10\", lon=\"INTPTLON10\", lat=\"INTPTLAT10\")\n",
    "nx.write_graphml(g, \"../data/counties.graphml\")"
   ]
  },
  {
   "cell_type": "code",
   "execution_count": 66,
   "id": "77e58769-bdc0-47ee-9536-fc32b5ea3474",
   "metadata": {
    "execution": {
     "iopub.execute_input": "2025-07-17T01:33:32.772794Z",
     "iopub.status.busy": "2025-07-17T01:33:32.772467Z",
     "iopub.status.idle": "2025-07-17T01:33:32.894454Z",
     "shell.execute_reply": "2025-07-17T01:33:32.893840Z",
     "shell.execute_reply.started": "2025-07-17T01:33:32.772772Z"
    },
    "tags": []
   },
   "outputs": [
    {
     "name": "stdout",
     "output_type": "stream",
     "text": [
      "3109\n"
     ]
    }
   ],
   "source": [
    "counties = nx.read_graphml(\"../data/counties.graphml\")\n",
    "print(len(counties))\n"
   ]
  },
  {
   "cell_type": "code",
   "execution_count": 59,
   "id": "54555e05-5167-4056-b667-32cd704443d2",
   "metadata": {
    "execution": {
     "iopub.execute_input": "2025-07-17T01:16:32.047142Z",
     "iopub.status.busy": "2025-07-17T01:16:32.046837Z",
     "iopub.status.idle": "2025-07-17T01:16:32.184932Z",
     "shell.execute_reply": "2025-07-17T01:16:32.184320Z",
     "shell.execute_reply.started": "2025-07-17T01:16:32.047122Z"
    },
    "tags": []
   },
   "outputs": [
    {
     "data": {
      "text/plain": [
       "9129"
      ]
     },
     "execution_count": 59,
     "metadata": {},
     "output_type": "execute_result"
    }
   ],
   "source": [
    "gdf = gpd.read_file(\"shapefiles/tl_2020_06_tract/tl_2020_06_tract.shp\")\n",
    "len(gdf)"
   ]
  },
  {
   "cell_type": "code",
   "execution_count": 68,
   "id": "33e07fd5-5007-4917-bd69-52c2b45e81f9",
   "metadata": {
    "execution": {
     "iopub.execute_input": "2025-07-17T01:36:08.597283Z",
     "iopub.status.busy": "2025-07-17T01:36:08.596978Z",
     "iopub.status.idle": "2025-07-17T01:36:18.986551Z",
     "shell.execute_reply": "2025-07-17T01:36:18.985904Z",
     "shell.execute_reply.started": "2025-07-17T01:36:08.597262Z"
    },
    "tags": []
   },
   "outputs": [
    {
     "ename": "KeyError",
     "evalue": "\"['GEOID', 'INTPTLAT', 'INTPTLON'] not in index\"",
     "output_type": "error",
     "traceback": [
      "\u001b[0;31m---------------------------------------------------------------------------\u001b[0m",
      "\u001b[0;31mKeyError\u001b[0m                                  Traceback (most recent call last)",
      "Cell \u001b[0;32mIn[68], line 2\u001b[0m\n\u001b[1;32m      1\u001b[0m gdf \u001b[38;5;241m=\u001b[39m gpd\u001b[38;5;241m.\u001b[39mread_file(\u001b[38;5;124m\"\u001b[39m\u001b[38;5;124m../data_collections/air_pollution_mortality_us/geojson.geojson\u001b[39m\u001b[38;5;124m\"\u001b[39m)\n\u001b[0;32m----> 2\u001b[0m ca_tract \u001b[38;5;241m=\u001b[39m \u001b[43mgdf\u001b[49m\u001b[43m[\u001b[49m\u001b[43m[\u001b[49m\u001b[38;5;124;43m\"\u001b[39;49m\u001b[38;5;124;43mGEOID\u001b[39;49m\u001b[38;5;124;43m\"\u001b[39;49m\u001b[43m,\u001b[49m\u001b[43m \u001b[49m\u001b[38;5;124;43m\"\u001b[39;49m\u001b[38;5;124;43mINTPTLAT\u001b[39;49m\u001b[38;5;124;43m\"\u001b[39;49m\u001b[43m,\u001b[49m\u001b[43m \u001b[49m\u001b[38;5;124;43m\"\u001b[39;49m\u001b[38;5;124;43mINTPTLON\u001b[39;49m\u001b[38;5;124;43m\"\u001b[39;49m\u001b[43m,\u001b[49m\u001b[43m \u001b[49m\u001b[38;5;124;43m\"\u001b[39;49m\u001b[38;5;124;43mgeometry\u001b[39;49m\u001b[38;5;124;43m\"\u001b[39;49m\u001b[43m]\u001b[49m\u001b[43m]\u001b[49m\n",
      "File \u001b[0;32m~/workspace/Temporary/akhot2/scratch/spacedata/lib/python3.10/site-packages/geopandas/geodataframe.py:1910\u001b[0m, in \u001b[0;36mGeoDataFrame.__getitem__\u001b[0;34m(self, key)\u001b[0m\n\u001b[1;32m   1904\u001b[0m \u001b[38;5;28;01mdef\u001b[39;00m\u001b[38;5;250m \u001b[39m\u001b[38;5;21m__getitem__\u001b[39m(\u001b[38;5;28mself\u001b[39m, key):\n\u001b[1;32m   1905\u001b[0m \u001b[38;5;250m    \u001b[39m\u001b[38;5;124;03m\"\"\"\u001b[39;00m\n\u001b[1;32m   1906\u001b[0m \u001b[38;5;124;03m    If the result is a column containing only 'geometry', return a\u001b[39;00m\n\u001b[1;32m   1907\u001b[0m \u001b[38;5;124;03m    GeoSeries. If it's a DataFrame with any columns of GeometryDtype,\u001b[39;00m\n\u001b[1;32m   1908\u001b[0m \u001b[38;5;124;03m    return a GeoDataFrame.\u001b[39;00m\n\u001b[1;32m   1909\u001b[0m \u001b[38;5;124;03m    \"\"\"\u001b[39;00m\n\u001b[0;32m-> 1910\u001b[0m     result \u001b[38;5;241m=\u001b[39m \u001b[38;5;28;43msuper\u001b[39;49m\u001b[43m(\u001b[49m\u001b[43m)\u001b[49m\u001b[38;5;241;43m.\u001b[39;49m\u001b[38;5;21;43m__getitem__\u001b[39;49m\u001b[43m(\u001b[49m\u001b[43mkey\u001b[49m\u001b[43m)\u001b[49m\n\u001b[1;32m   1911\u001b[0m     \u001b[38;5;66;03m# Custom logic to avoid waiting for pandas GH51895\u001b[39;00m\n\u001b[1;32m   1912\u001b[0m     \u001b[38;5;66;03m# result is not geometry dtype for multi-indexes\u001b[39;00m\n\u001b[1;32m   1913\u001b[0m     \u001b[38;5;28;01mif\u001b[39;00m (\n\u001b[1;32m   1914\u001b[0m         pd\u001b[38;5;241m.\u001b[39mapi\u001b[38;5;241m.\u001b[39mtypes\u001b[38;5;241m.\u001b[39mis_scalar(key)\n\u001b[1;32m   1915\u001b[0m         \u001b[38;5;129;01mand\u001b[39;00m key \u001b[38;5;241m==\u001b[39m \u001b[38;5;124m\"\u001b[39m\u001b[38;5;124m\"\u001b[39m\n\u001b[0;32m   (...)\u001b[0m\n\u001b[1;32m   1918\u001b[0m         \u001b[38;5;129;01mand\u001b[39;00m \u001b[38;5;129;01mnot\u001b[39;00m is_geometry_type(result)\n\u001b[1;32m   1919\u001b[0m     ):\n",
      "File \u001b[0;32m~/workspace/Temporary/akhot2/scratch/spacedata/lib/python3.10/site-packages/pandas/core/frame.py:4113\u001b[0m, in \u001b[0;36mDataFrame.__getitem__\u001b[0;34m(self, key)\u001b[0m\n\u001b[1;32m   4111\u001b[0m     \u001b[38;5;28;01mif\u001b[39;00m is_iterator(key):\n\u001b[1;32m   4112\u001b[0m         key \u001b[38;5;241m=\u001b[39m \u001b[38;5;28mlist\u001b[39m(key)\n\u001b[0;32m-> 4113\u001b[0m     indexer \u001b[38;5;241m=\u001b[39m \u001b[38;5;28;43mself\u001b[39;49m\u001b[38;5;241;43m.\u001b[39;49m\u001b[43mcolumns\u001b[49m\u001b[38;5;241;43m.\u001b[39;49m\u001b[43m_get_indexer_strict\u001b[49m\u001b[43m(\u001b[49m\u001b[43mkey\u001b[49m\u001b[43m,\u001b[49m\u001b[43m \u001b[49m\u001b[38;5;124;43m\"\u001b[39;49m\u001b[38;5;124;43mcolumns\u001b[39;49m\u001b[38;5;124;43m\"\u001b[39;49m\u001b[43m)\u001b[49m[\u001b[38;5;241m1\u001b[39m]\n\u001b[1;32m   4115\u001b[0m \u001b[38;5;66;03m# take() does not accept boolean indexers\u001b[39;00m\n\u001b[1;32m   4116\u001b[0m \u001b[38;5;28;01mif\u001b[39;00m \u001b[38;5;28mgetattr\u001b[39m(indexer, \u001b[38;5;124m\"\u001b[39m\u001b[38;5;124mdtype\u001b[39m\u001b[38;5;124m\"\u001b[39m, \u001b[38;5;28;01mNone\u001b[39;00m) \u001b[38;5;241m==\u001b[39m \u001b[38;5;28mbool\u001b[39m:\n",
      "File \u001b[0;32m~/workspace/Temporary/akhot2/scratch/spacedata/lib/python3.10/site-packages/pandas/core/indexes/base.py:6212\u001b[0m, in \u001b[0;36mIndex._get_indexer_strict\u001b[0;34m(self, key, axis_name)\u001b[0m\n\u001b[1;32m   6209\u001b[0m \u001b[38;5;28;01melse\u001b[39;00m:\n\u001b[1;32m   6210\u001b[0m     keyarr, indexer, new_indexer \u001b[38;5;241m=\u001b[39m \u001b[38;5;28mself\u001b[39m\u001b[38;5;241m.\u001b[39m_reindex_non_unique(keyarr)\n\u001b[0;32m-> 6212\u001b[0m \u001b[38;5;28;43mself\u001b[39;49m\u001b[38;5;241;43m.\u001b[39;49m\u001b[43m_raise_if_missing\u001b[49m\u001b[43m(\u001b[49m\u001b[43mkeyarr\u001b[49m\u001b[43m,\u001b[49m\u001b[43m \u001b[49m\u001b[43mindexer\u001b[49m\u001b[43m,\u001b[49m\u001b[43m \u001b[49m\u001b[43maxis_name\u001b[49m\u001b[43m)\u001b[49m\n\u001b[1;32m   6214\u001b[0m keyarr \u001b[38;5;241m=\u001b[39m \u001b[38;5;28mself\u001b[39m\u001b[38;5;241m.\u001b[39mtake(indexer)\n\u001b[1;32m   6215\u001b[0m \u001b[38;5;28;01mif\u001b[39;00m \u001b[38;5;28misinstance\u001b[39m(key, Index):\n\u001b[1;32m   6216\u001b[0m     \u001b[38;5;66;03m# GH 42790 - Preserve name from an Index\u001b[39;00m\n",
      "File \u001b[0;32m~/workspace/Temporary/akhot2/scratch/spacedata/lib/python3.10/site-packages/pandas/core/indexes/base.py:6264\u001b[0m, in \u001b[0;36mIndex._raise_if_missing\u001b[0;34m(self, key, indexer, axis_name)\u001b[0m\n\u001b[1;32m   6261\u001b[0m     \u001b[38;5;28;01mraise\u001b[39;00m \u001b[38;5;167;01mKeyError\u001b[39;00m(\u001b[38;5;124mf\u001b[39m\u001b[38;5;124m\"\u001b[39m\u001b[38;5;124mNone of [\u001b[39m\u001b[38;5;132;01m{\u001b[39;00mkey\u001b[38;5;132;01m}\u001b[39;00m\u001b[38;5;124m] are in the [\u001b[39m\u001b[38;5;132;01m{\u001b[39;00maxis_name\u001b[38;5;132;01m}\u001b[39;00m\u001b[38;5;124m]\u001b[39m\u001b[38;5;124m\"\u001b[39m)\n\u001b[1;32m   6263\u001b[0m not_found \u001b[38;5;241m=\u001b[39m \u001b[38;5;28mlist\u001b[39m(ensure_index(key)[missing_mask\u001b[38;5;241m.\u001b[39mnonzero()[\u001b[38;5;241m0\u001b[39m]]\u001b[38;5;241m.\u001b[39munique())\n\u001b[0;32m-> 6264\u001b[0m \u001b[38;5;28;01mraise\u001b[39;00m \u001b[38;5;167;01mKeyError\u001b[39;00m(\u001b[38;5;124mf\u001b[39m\u001b[38;5;124m\"\u001b[39m\u001b[38;5;132;01m{\u001b[39;00mnot_found\u001b[38;5;132;01m}\u001b[39;00m\u001b[38;5;124m not in index\u001b[39m\u001b[38;5;124m\"\u001b[39m)\n",
      "\u001b[0;31mKeyError\u001b[0m: \"['GEOID', 'INTPTLAT', 'INTPTLON'] not in index\""
     ]
    }
   ],
   "source": [
    "gdf = gpd.read_file(\"../data_collections/air_pollution_mortality_us/geojson.geojson\")\n",
    "ca_tract = gdf[[\"GEOID\", \"INTPTLAT\", \"INTPTLON\", \"geometry\"]]"
   ]
  },
  {
   "cell_type": "code",
   "execution_count": 69,
   "id": "bd4eb672-9766-4adb-92c6-f8105e1b041c",
   "metadata": {
    "execution": {
     "iopub.execute_input": "2025-07-17T01:36:30.107049Z",
     "iopub.status.busy": "2025-07-17T01:36:30.106744Z",
     "iopub.status.idle": "2025-07-17T01:36:30.128683Z",
     "shell.execute_reply": "2025-07-17T01:36:30.128259Z",
     "shell.execute_reply.started": "2025-07-17T01:36:30.107029Z"
    }
   },
   "outputs": [
    {
     "data": {
      "text/html": [
       "<div>\n",
       "<style scoped>\n",
       "    .dataframe tbody tr th:only-of-type {\n",
       "        vertical-align: middle;\n",
       "    }\n",
       "\n",
       "    .dataframe tbody tr th {\n",
       "        vertical-align: top;\n",
       "    }\n",
       "\n",
       "    .dataframe thead th {\n",
       "        text-align: right;\n",
       "    }\n",
       "</style>\n",
       "<table border=\"1\" class=\"dataframe\">\n",
       "  <thead>\n",
       "    <tr style=\"text-align: right;\">\n",
       "      <th></th>\n",
       "      <th>GEOID10</th>\n",
       "      <th>INTPTLAT10</th>\n",
       "      <th>INTPTLON10</th>\n",
       "      <th>geometry</th>\n",
       "    </tr>\n",
       "  </thead>\n",
       "  <tbody>\n",
       "    <tr>\n",
       "      <th>0</th>\n",
       "      <td>28107</td>\n",
       "      <td>34.365205</td>\n",
       "      <td>-89.963065</td>\n",
       "      <td>POLYGON ((-90.13476 34.22603, -90.13476 34.226...</td>\n",
       "    </tr>\n",
       "    <tr>\n",
       "      <th>1</th>\n",
       "      <td>28101</td>\n",
       "      <td>32.401970</td>\n",
       "      <td>-89.118411</td>\n",
       "      <td>POLYGON ((-89.13497 32.57697, -89.13466 32.576...</td>\n",
       "    </tr>\n",
       "    <tr>\n",
       "      <th>2</th>\n",
       "      <td>28027</td>\n",
       "      <td>34.228670</td>\n",
       "      <td>-90.603165</td>\n",
       "      <td>POLYGON ((-90.59062 33.9869, -90.59473 33.9869...</td>\n",
       "    </tr>\n",
       "    <tr>\n",
       "      <th>3</th>\n",
       "      <td>22065</td>\n",
       "      <td>32.365824</td>\n",
       "      <td>-91.240729</td>\n",
       "      <td>MULTIPOLYGON (((-91.03511 32.12035, -91.03621 ...</td>\n",
       "    </tr>\n",
       "    <tr>\n",
       "      <th>4</th>\n",
       "      <td>51540</td>\n",
       "      <td>38.037658</td>\n",
       "      <td>-78.485381</td>\n",
       "      <td>POLYGON ((-78.47071 38.04872, -78.47033 38.048...</td>\n",
       "    </tr>\n",
       "    <tr>\n",
       "      <th>...</th>\n",
       "      <td>...</td>\n",
       "      <td>...</td>\n",
       "      <td>...</td>\n",
       "      <td>...</td>\n",
       "    </tr>\n",
       "    <tr>\n",
       "      <th>3104</th>\n",
       "      <td>37077</td>\n",
       "      <td>36.299884</td>\n",
       "      <td>-78.657634</td>\n",
       "      <td>POLYGON ((-78.80329 36.17716, -78.80324 36.179...</td>\n",
       "    </tr>\n",
       "    <tr>\n",
       "      <th>3105</th>\n",
       "      <td>37111</td>\n",
       "      <td>35.682232</td>\n",
       "      <td>-82.048029</td>\n",
       "      <td>POLYGON ((-81.86107 35.69329, -81.86077 35.692...</td>\n",
       "    </tr>\n",
       "    <tr>\n",
       "      <th>3106</th>\n",
       "      <td>27021</td>\n",
       "      <td>46.951427</td>\n",
       "      <td>-94.333773</td>\n",
       "      <td>POLYGON ((-94.65939 46.8907, -94.65936 46.8920...</td>\n",
       "    </tr>\n",
       "    <tr>\n",
       "      <th>3107</th>\n",
       "      <td>27057</td>\n",
       "      <td>47.095551</td>\n",
       "      <td>-94.913290</td>\n",
       "      <td>POLYGON ((-95.16917 47.15252, -95.16917 47.155...</td>\n",
       "    </tr>\n",
       "    <tr>\n",
       "      <th>3108</th>\n",
       "      <td>27169</td>\n",
       "      <td>43.982268</td>\n",
       "      <td>-91.776708</td>\n",
       "      <td>POLYGON ((-92.07904 43.95532, -92.07904 43.957...</td>\n",
       "    </tr>\n",
       "  </tbody>\n",
       "</table>\n",
       "<p>3109 rows × 4 columns</p>\n",
       "</div>"
      ],
      "text/plain": [
       "     GEOID10  INTPTLAT10  INTPTLON10  \\\n",
       "0      28107   34.365205  -89.963065   \n",
       "1      28101   32.401970  -89.118411   \n",
       "2      28027   34.228670  -90.603165   \n",
       "3      22065   32.365824  -91.240729   \n",
       "4      51540   38.037658  -78.485381   \n",
       "...      ...         ...         ...   \n",
       "3104   37077   36.299884  -78.657634   \n",
       "3105   37111   35.682232  -82.048029   \n",
       "3106   27021   46.951427  -94.333773   \n",
       "3107   27057   47.095551  -94.913290   \n",
       "3108   27169   43.982268  -91.776708   \n",
       "\n",
       "                                               geometry  \n",
       "0     POLYGON ((-90.13476 34.22603, -90.13476 34.226...  \n",
       "1     POLYGON ((-89.13497 32.57697, -89.13466 32.576...  \n",
       "2     POLYGON ((-90.59062 33.9869, -90.59473 33.9869...  \n",
       "3     MULTIPOLYGON (((-91.03511 32.12035, -91.03621 ...  \n",
       "4     POLYGON ((-78.47071 38.04872, -78.47033 38.048...  \n",
       "...                                                 ...  \n",
       "3104  POLYGON ((-78.80329 36.17716, -78.80324 36.179...  \n",
       "3105  POLYGON ((-81.86107 35.69329, -81.86077 35.692...  \n",
       "3106  POLYGON ((-94.65939 46.8907, -94.65936 46.8920...  \n",
       "3107  POLYGON ((-95.16917 47.15252, -95.16917 47.155...  \n",
       "3108  POLYGON ((-92.07904 43.95532, -92.07904 43.957...  \n",
       "\n",
       "[3109 rows x 4 columns]"
      ]
     },
     "execution_count": 69,
     "metadata": {},
     "output_type": "execute_result"
    }
   ],
   "source": [
    "gdf"
   ]
  },
  {
   "cell_type": "code",
   "execution_count": 58,
   "id": "b7b008ca-1b98-4d8e-84a6-04d22cc8b543",
   "metadata": {
    "execution": {
     "iopub.execute_input": "2025-07-17T01:16:19.382703Z",
     "iopub.status.busy": "2025-07-17T01:16:19.382389Z",
     "iopub.status.idle": "2025-07-17T01:16:20.004445Z",
     "shell.execute_reply": "2025-07-17T01:16:20.003978Z",
     "shell.execute_reply.started": "2025-07-17T01:16:19.382682Z"
    }
   },
   "outputs": [
    {
     "name": "stdout",
     "output_type": "stream",
     "text": [
      "9129\n"
     ]
    }
   ],
   "source": [
    "graph = nx.read_graphml(\"../data_collections/climate_exposure_ca/graph.graphml\")\n",
    "print(len(graph.nodes()))\n"
   ]
  },
  {
   "cell_type": "code",
   "execution_count": null,
   "id": "01e746e8-9021-4eb0-a909-858759bdf636",
   "metadata": {},
   "outputs": [],
   "source": []
  }
 ],
 "metadata": {
  "kernelspec": {
   "display_name": "Python 3.9 (py39)",
   "language": "python",
   "name": "py39"
  },
  "language_info": {
   "codemirror_mode": {
    "name": "ipython",
    "version": 3
   },
   "file_extension": ".py",
   "mimetype": "text/x-python",
   "name": "python",
   "nbconvert_exporter": "python",
   "pygments_lexer": "ipython3",
   "version": "3.9.13"
  }
 },
 "nbformat": 4,
 "nbformat_minor": 5
}
