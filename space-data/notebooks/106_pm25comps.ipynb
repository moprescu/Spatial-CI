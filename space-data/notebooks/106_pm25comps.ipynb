{
 "cells": [
  {
   "cell_type": "markdown",
   "id": "5361f7c5-b2a9-4ec0-b33b-e17aefecaa14",
   "metadata": {
    "tags": []
   },
   "source": [
    "# High-resolution PM 2.5 and components data\n",
    "\n",
    "The data is harnessed at high spatial resolution of 1km x 1km. After merging multiple sources and removing missing values, the dataset contains around 5,000,000 observations. \n",
    "\n",
    "The original data sources consist of rasters, sources are described below. Unfortunately, data from the NASA Earth Observatory must be downloaded manually after creating an account. \n",
    "\n",
    "\n",
    "### PM 2.5 Components Data, US 2000\n",
    "\n",
    "- Source: NASA Earth Observatory\n",
    "- URL: https://sedac.ciesin.columbia.edu/data/set/aqdh-pm2-5-component-ec-nh4-no3-oc-so4-50m-1km-contiguous-us-2000-2019/data-download\n",
    "- Research Paper: https://www.researchsquare.com/article/rs-1745433/v2\n",
    "- Files: \n",
    "  - `aqdh_pm25component_ec_2000_non_urban` (Elemental Carbon)\n",
    "  - `aqdh_pm25component_nh4_2000_non_urban` (Ammonium)\n",
    "  - `aqdh_pm25component_no3_2000_non_urban` (Nitrate)\n",
    "  - `aqdh_pm25component_oc_2000_non_urban` (Organic Carbon)\n",
    "  - `aqdh_pm25component_so4_2000_non_urban` (Sulfate)\n",
    "\n",
    "### Total PM 2.5 Data, US 2000\n",
    "\n",
    "- Source: NASA Earth Observatory\n",
    "- URL: https://sedac.ciesin.columbia.edu/data/set/aqdh-pm2-5-annual-concentrations-1km-contiguous-us-2000-2019/data-download\n",
    "- Research Paper: https://www.sciencedirect.com/science/article/pii/S0160412019300650?via%3Dihub#s0115\n",
    "- Files;\n",
    "  - `Annual-geotiff/2000.tif` (Total PM 2.5)\n",
    "\n",
    "The spatial graph is obtained from the row-column representation in the raster's original projections.\n",
    "\n",
    "*TODO*: More variables about land used and demographic will be added, but keep in mind that that the dataset is already very large. The majority of existing methods for spatial data scale polynomially with the number of observations, so the dataset is already beyond what spatial methods can handle.\n",
    "\n",
    "For the code we assume that the above files are downloaded and uncompressed in a `data/` folder."
   ]
  },
  {
   "cell_type": "markdown",
   "id": "898025c8",
   "metadata": {},
   "source": [
    "## Requirements"
   ]
  },
  {
   "cell_type": "markdown",
   "id": "3ac6f231",
   "metadata": {},
   "source": [
    "```yaml\n",
    "# install with conda env create -f <file-name>.yaml and\n",
    "# activate with conda activate pm25comps\n",
    "name: pm25comps\n",
    "channels:\n",
    "  - defaults\n",
    "  - conda-forge\n",
    "dependencies:\n",
    "  - python=3.10\n",
    "  - pandas\n",
    "  - pyarrow\n",
    "  - lxml\n",
    "  - pip\n",
    "  - pip:\n",
    "    - matplotlib\n",
    "    - ipykernel\n",
    "    - pyreadr\n",
    "    - networkx\n",
    "    - rasterio\n",
    "    - tqdm\n",
    "    - pyproj\n",
    "    - lxml\n",
    "```"
   ]
  },
  {
   "cell_type": "code",
   "execution_count": 8,
   "id": "ae36aca5-d68b-4937-b2b9-9e6c922050a2",
   "metadata": {
    "execution": {
     "iopub.execute_input": "2025-07-28T23:13:59.176932Z",
     "iopub.status.busy": "2025-07-28T23:13:59.176597Z",
     "iopub.status.idle": "2025-07-28T23:13:59.179871Z",
     "shell.execute_reply": "2025-07-28T23:13:59.179448Z",
     "shell.execute_reply.started": "2025-07-28T23:13:59.176907Z"
    },
    "tags": []
   },
   "outputs": [],
   "source": [
    "import os\n",
    "import pyreadr\n",
    "import pyproj\n",
    "import pandas as pd\n",
    "import rasterio\n",
    "import numpy as np\n",
    "import networkx as nx\n",
    "from tqdm import tqdm\n",
    "import tempfile"
   ]
  },
  {
   "cell_type": "markdown",
   "id": "77ae9628",
   "metadata": {},
   "source": [
    "## Load PM2.5 and components data"
   ]
  },
  {
   "cell_type": "markdown",
   "id": "701abd52",
   "metadata": {},
   "source": [
    "Utility function to map coordinates to row-column representation using a raster's original projection."
   ]
  },
  {
   "cell_type": "code",
   "execution_count": 9,
   "id": "2f933dd3",
   "metadata": {
    "execution": {
     "iopub.execute_input": "2025-07-28T23:14:24.115908Z",
     "iopub.status.busy": "2025-07-28T23:14:24.115601Z",
     "iopub.status.idle": "2025-07-28T23:14:24.120407Z",
     "shell.execute_reply": "2025-07-28T23:14:24.119983Z",
     "shell.execute_reply.started": "2025-07-28T23:14:24.115889Z"
    },
    "tags": []
   },
   "outputs": [],
   "source": [
    "def update_dataframe_with_raster(df, raster_path):\n",
    "    \"\"\"\n",
    "    Add row, col of raster into dataframe.\n",
    "\n",
    "    Parameters:\n",
    "    - df: pandas DataFrame with 'lon', 'lat', and 'value' columns\n",
    "    - raster_path: path to the input raster file\n",
    "    \"\"\"\n",
    "\n",
    "    # Read the CRS from the raster\n",
    "    with rasterio.open(raster_path) as src:\n",
    "        raster_crs = src.crs\n",
    "        print(raster_crs)\n",
    "\n",
    "    # If DataFrame coordinates are in WGS84 (can be replaced by other known CRS)\n",
    "    data_crs = pyproj.CRS(\"EPSG:4326\")\n",
    "\n",
    "    # Initialize transformer between DataFrame CRS and raster CRS\n",
    "    transformer = pyproj.Transformer.from_crs(data_crs, raster_crs, always_xy=True)\n",
    "\n",
    "    # Transform DataFrame coordinates to raster CRS\n",
    "    df[\"x\"], df[\"y\"] = transformer.transform(df[\"lon\"].values, df[\"lat\"].values)\n",
    "\n",
    "    # Open the raster file to read its properties and data\n",
    "    with rasterio.open(raster_path) as src:\n",
    "        # Convert the x, y coordinates to row, col indices in the raster\n",
    "        df[\"col\"], df[\"row\"] = zip(\n",
    "            *[~src.transform * (x, y) for x, y in zip(df[\"x\"], df[\"y\"])]\n",
    "        )\n",
    "\n",
    "        # Round row and col to integers\n",
    "        df[\"row\"] = df[\"row\"].astype(int)\n",
    "        df[\"col\"] = df[\"col\"].astype(int)\n"
   ]
  },
  {
   "cell_type": "markdown",
   "id": "f4c682f2",
   "metadata": {},
   "source": [
    "Load and process components data"
   ]
  },
  {
   "cell_type": "code",
   "execution_count": 10,
   "id": "7c7833c4",
   "metadata": {
    "execution": {
     "iopub.execute_input": "2025-07-28T23:14:28.760623Z",
     "iopub.status.busy": "2025-07-28T23:14:28.760300Z",
     "iopub.status.idle": "2025-07-28T23:18:40.196346Z",
     "shell.execute_reply": "2025-07-28T23:18:40.195737Z",
     "shell.execute_reply.started": "2025-07-28T23:14:28.760602Z"
    },
    "tags": []
   },
   "outputs": [
    {
     "name": "stdout",
     "output_type": "stream",
     "text": [
      "ec...ESRI:102010\n",
      " done.\n",
      "   row  col     value\n",
      "0    1  382  0.549129\n",
      "1    1  383  0.555945\n",
      "2    1  384  0.537942\n",
      "3    1  385  0.527252\n",
      "4    2  382  0.502521\n",
      "so4...ESRI:102010\n",
      " done.\n",
      "   row  col     value\n",
      "0    1  382  0.825976\n",
      "1    1  383  0.826066\n",
      "2    1  384  0.758234\n",
      "3    1  385  0.534194\n",
      "4    2  382  0.794954\n",
      "no3...ESRI:102010\n",
      " done.\n",
      "   row  col     value\n",
      "0    1  382  0.984365\n",
      "1    1  383  0.923659\n",
      "2    1  384  0.811055\n",
      "3    1  385  0.842994\n",
      "4    2  382  0.930860\n",
      "nh4...ESRI:102010\n",
      " done.\n",
      "   row  col     value\n",
      "0    1  382  0.251119\n",
      "1    1  383  0.236092\n",
      "2    1  384  0.143829\n",
      "3    1  385  0.073309\n",
      "4    2  382  0.278772\n",
      "oc...ESRI:102010\n",
      " done.\n",
      "   row  col     value\n",
      "0    1  382  1.269599\n",
      "1    1  383  1.276485\n",
      "2    1  384  1.442750\n",
      "3    1  385  1.186411\n",
      "4    2  382  1.426268\n"
     ]
    }
   ],
   "source": [
    "df_comps = {}\n",
    "for comp in [\"ec\", \"so4\", \"no3\", \"nh4\", \"oc\"]:\n",
    "    print(f\"{comp}...\", end=\"\")\n",
    "    df = pyreadr.read_r(f\"data/aqdh-pm25component-{comp}-2000-non-urban.rds\")[None]\n",
    "    df.rename(columns={f\"final.predicted.{comp}\": \"value\"}, inplace=True)\n",
    "    update_dataframe_with_raster(df, \"data/Annual-geotiff/2000.tif\")\n",
    "    df = df[[\"row\", \"col\", \"value\"]]\n",
    "    df = df.groupby([\"row\", \"col\"]).mean().reset_index()\n",
    "    df_comps[comp] = df.rename(columns={\"value\": f\"value_{comp}\"})\n",
    "    print(\" done.\")\n",
    "    print(df.head())\n"
   ]
  },
  {
   "cell_type": "markdown",
   "id": "0bb37c78",
   "metadata": {},
   "source": [
    "Utility to convert raster to row-column data frame representation"
   ]
  },
  {
   "cell_type": "code",
   "execution_count": 4,
   "id": "ed816299",
   "metadata": {
    "execution": {
     "iopub.execute_input": "2025-07-27T18:28:01.737199Z",
     "iopub.status.busy": "2025-07-27T18:28:01.736961Z",
     "iopub.status.idle": "2025-07-27T18:28:01.740915Z",
     "shell.execute_reply": "2025-07-27T18:28:01.740524Z",
     "shell.execute_reply.started": "2025-07-27T18:28:01.737180Z"
    },
    "tags": []
   },
   "outputs": [],
   "source": [
    "def raster_to_dataframe(raster_path):\n",
    "    \"\"\"\n",
    "    Convert raster to row column dataframe\n",
    "    \"\"\"\n",
    "    with rasterio.open(raster_path) as src:\n",
    "        array_data = src.read(1)\n",
    "        na_entry = src.nodata\n",
    "    height, width = array_data.shape\n",
    "    row, col = np.indices((height, width))\n",
    "    row = row.flatten()\n",
    "    col = col.flatten()\n",
    "    value = array_data.flatten()\n",
    "    df = pd.DataFrame({\"row\": row, \"col\": col, \"value\": value})\n",
    "    df = df[df[\"value\"] != na_entry]\n",
    "    return df"
   ]
  },
  {
   "cell_type": "markdown",
   "id": "2c6568be",
   "metadata": {},
   "source": [
    "Read pm2.5 and merge with component data, remove incomplete observations"
   ]
  },
  {
   "cell_type": "code",
   "execution_count": 5,
   "id": "17035a43",
   "metadata": {
    "execution": {
     "iopub.execute_input": "2025-07-27T18:28:01.741566Z",
     "iopub.status.busy": "2025-07-27T18:28:01.741401Z",
     "iopub.status.idle": "2025-07-27T18:28:12.116317Z",
     "shell.execute_reply": "2025-07-27T18:28:12.115840Z",
     "shell.execute_reply.started": "2025-07-27T18:28:01.741549Z"
    },
    "tags": []
   },
   "outputs": [
    {
     "data": {
      "text/html": [
       "<div>\n",
       "<style scoped>\n",
       "    .dataframe tbody tr th:only-of-type {\n",
       "        vertical-align: middle;\n",
       "    }\n",
       "\n",
       "    .dataframe tbody tr th {\n",
       "        vertical-align: top;\n",
       "    }\n",
       "\n",
       "    .dataframe thead th {\n",
       "        text-align: right;\n",
       "    }\n",
       "</style>\n",
       "<table border=\"1\" class=\"dataframe\">\n",
       "  <thead>\n",
       "    <tr style=\"text-align: right;\">\n",
       "      <th></th>\n",
       "      <th>row</th>\n",
       "      <th>col</th>\n",
       "      <th>value_pm25</th>\n",
       "      <th>value_ec</th>\n",
       "      <th>value_so4</th>\n",
       "      <th>value_no3</th>\n",
       "      <th>value_nh4</th>\n",
       "      <th>value_oc</th>\n",
       "    </tr>\n",
       "  </thead>\n",
       "  <tbody>\n",
       "    <tr>\n",
       "      <th>1_382</th>\n",
       "      <td>1</td>\n",
       "      <td>382</td>\n",
       "      <td>5.807724</td>\n",
       "      <td>0.549129</td>\n",
       "      <td>0.825976</td>\n",
       "      <td>0.984365</td>\n",
       "      <td>0.251119</td>\n",
       "      <td>1.269599</td>\n",
       "    </tr>\n",
       "    <tr>\n",
       "      <th>1_383</th>\n",
       "      <td>1</td>\n",
       "      <td>383</td>\n",
       "      <td>5.943683</td>\n",
       "      <td>0.555945</td>\n",
       "      <td>0.826066</td>\n",
       "      <td>0.923659</td>\n",
       "      <td>0.236092</td>\n",
       "      <td>1.276485</td>\n",
       "    </tr>\n",
       "    <tr>\n",
       "      <th>1_384</th>\n",
       "      <td>1</td>\n",
       "      <td>384</td>\n",
       "      <td>4.401867</td>\n",
       "      <td>0.537942</td>\n",
       "      <td>0.758234</td>\n",
       "      <td>0.811055</td>\n",
       "      <td>0.143829</td>\n",
       "      <td>1.442750</td>\n",
       "    </tr>\n",
       "    <tr>\n",
       "      <th>1_385</th>\n",
       "      <td>1</td>\n",
       "      <td>385</td>\n",
       "      <td>5.896810</td>\n",
       "      <td>0.527252</td>\n",
       "      <td>0.534194</td>\n",
       "      <td>0.842994</td>\n",
       "      <td>0.073309</td>\n",
       "      <td>1.186411</td>\n",
       "    </tr>\n",
       "    <tr>\n",
       "      <th>2_382</th>\n",
       "      <td>2</td>\n",
       "      <td>382</td>\n",
       "      <td>6.735526</td>\n",
       "      <td>0.502521</td>\n",
       "      <td>0.794954</td>\n",
       "      <td>0.930860</td>\n",
       "      <td>0.278772</td>\n",
       "      <td>1.426268</td>\n",
       "    </tr>\n",
       "  </tbody>\n",
       "</table>\n",
       "</div>"
      ],
      "text/plain": [
       "       row  col  value_pm25  value_ec  value_so4  value_no3  value_nh4  \\\n",
       "1_382    1  382    5.807724  0.549129   0.825976   0.984365   0.251119   \n",
       "1_383    1  383    5.943683  0.555945   0.826066   0.923659   0.236092   \n",
       "1_384    1  384    4.401867  0.537942   0.758234   0.811055   0.143829   \n",
       "1_385    1  385    5.896810  0.527252   0.534194   0.842994   0.073309   \n",
       "2_382    2  382    6.735526  0.502521   0.794954   0.930860   0.278772   \n",
       "\n",
       "       value_oc  \n",
       "1_382  1.269599  \n",
       "1_383  1.276485  \n",
       "1_384  1.442750  \n",
       "1_385  1.186411  \n",
       "2_382  1.426268  "
      ]
     },
     "execution_count": 5,
     "metadata": {},
     "output_type": "execute_result"
    }
   ],
   "source": [
    "# load pm25 for 2000\n",
    "df = raster_to_dataframe(\"data/Annual-geotiff/2000.tif\").rename(columns={\"value\": \"value_pm25\"})\n",
    "\n",
    "for c in df_comps:\n",
    "    df = df.merge(df_comps[c], on=[\"row\", \"col\"], how=\"outer\")\n",
    "\n",
    "df = df.dropna()\n",
    "df.index = pd.Index(df[\"row\"].astype(str) + \"_\" + df[\"col\"].astype(str))\n",
    "df.head()"
   ]
  },
  {
   "cell_type": "code",
   "execution_count": 6,
   "id": "0f315505",
   "metadata": {
    "execution": {
     "iopub.execute_input": "2025-07-27T18:28:12.117504Z",
     "iopub.status.busy": "2025-07-27T18:28:12.117255Z",
     "iopub.status.idle": "2025-07-27T18:31:21.962315Z",
     "shell.execute_reply": "2025-07-27T18:31:21.961682Z",
     "shell.execute_reply.started": "2025-07-27T18:28:12.117486Z"
    },
    "tags": []
   },
   "outputs": [
    {
     "name": "stderr",
     "output_type": "stream",
     "text": [
      "100%|██████████| 2848/2848 [00:29<00:00, 95.84it/s]\n"
     ]
    },
    {
     "name": "stdout",
     "output_type": "stream",
     "text": [
      "Number of nodes: 6884634\n",
      "Number of edges: 27246880\n"
     ]
    }
   ],
   "source": [
    "# make grid graph with diagonal connections\n",
    "max_rows = df[\"row\"].max()\n",
    "max_cols = df[\"col\"].max()\n",
    "edgelist = []\n",
    "\n",
    "for r in tqdm(range(max_rows + 1)):\n",
    "    for c in range(max_cols + 1):\n",
    "        # Horizontal edge (right)\n",
    "        if c < max_cols:\n",
    "            edgelist.append((f\"{r}_{c}\", f\"{r}_{c+1}\"))\n",
    "        \n",
    "        # Vertical edge (down)\n",
    "        if r < max_rows:\n",
    "            edgelist.append((f\"{r}_{c}\", f\"{r+1}_{c}\"))\n",
    "        \n",
    "        # Diagonal edges\n",
    "        # Down-right diagonal\n",
    "        if r < max_rows and c < max_cols:\n",
    "            edgelist.append((f\"{r}_{c}\", f\"{r+1}_{c+1}\"))\n",
    "        \n",
    "        # Down-left diagonal\n",
    "        if r < max_rows and c > 0:\n",
    "            edgelist.append((f\"{r}_{c}\", f\"{r+1}_{c-1}\"))\n",
    "\n",
    "G = nx.from_edgelist(edgelist)\n",
    "G = nx.subgraph(G, df.index)\n",
    "print(\"Number of nodes:\", G.number_of_nodes())\n",
    "print(\"Number of edges:\", G.number_of_edges())"
   ]
  },
  {
   "cell_type": "markdown",
   "id": "6f54c191",
   "metadata": {},
   "source": [
    "## Save data"
   ]
  },
  {
   "cell_type": "code",
   "execution_count": 7,
   "id": "a74f0f67",
   "metadata": {
    "execution": {
     "iopub.execute_input": "2025-07-27T18:31:21.963210Z",
     "iopub.status.busy": "2025-07-27T18:31:21.963014Z",
     "iopub.status.idle": "2025-07-27T18:31:54.760437Z",
     "shell.execute_reply": "2025-07-27T18:31:54.759819Z",
     "shell.execute_reply.started": "2025-07-27T18:31:21.963192Z"
    },
    "tags": []
   },
   "outputs": [
    {
     "name": "stdout",
     "output_type": "stream",
     "text": [
      "graph/edges.parquet\n",
      "graph/coords.parquet\n"
     ]
    }
   ],
   "source": [
    "edges = pd.DataFrame(edgelist, columns=[\"source\", \"target\"])\n",
    "coords = df[[\"row\", \"col\"]]\n",
    "\n",
    "tmpdir = tempfile.TemporaryDirectory().name\n",
    "os.makedirs(f\"{tmpdir}/graph\", exist_ok=True)\n",
    "os.makedirs(f\"uploads/dataverse\", exist_ok=True)\n",
    "\n",
    "edges.to_parquet(f\"{tmpdir}/graph/edges.parquet\")\n",
    "coords.to_parquet(f\"{tmpdir}/graph/coords.parquet\")\n",
    "\n",
    "os.system(f\"cd {tmpdir} && tar -czvf graph_pm25comps.tar.gz graph/edges.parquet graph/coords.parquet\")\n",
    "os.system(f\"mv {tmpdir}/graph_pm25comps.tar.gz uploads/dataverse/graph_pm25comps.tar.gz\")\n",
    "\n",
    "# %%\n",
    "df.drop(columns=[\"row\", \"col\"]).to_parquet(\"uploads/dataverse/raster_pm25comps.parquet\")"
   ]
  },
  {
   "cell_type": "code",
   "execution_count": null,
   "id": "3acc5d10-bdee-4fea-ac1e-d18bab3b6c3d",
   "metadata": {},
   "outputs": [],
   "source": []
  }
 ],
 "metadata": {
  "kernelspec": {
   "display_name": "Python (spacedata)",
   "language": "python",
   "name": "spacedata"
  },
  "language_info": {
   "codemirror_mode": {
    "name": "ipython",
    "version": 3
   },
   "file_extension": ".py",
   "mimetype": "text/x-python",
   "name": "python",
   "nbconvert_exporter": "python",
   "pygments_lexer": "ipython3",
   "version": "3.10.16"
  }
 },
 "nbformat": 4,
 "nbformat_minor": 5
}
