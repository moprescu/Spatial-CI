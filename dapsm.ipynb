{
 "cells": [
  {
   "cell_type": "code",
   "execution_count": 4,
   "metadata": {
    "tags": []
   },
   "outputs": [],
   "source": [
    "import numpy as np\n",
    "import pandas as pd\n",
    "\n",
    "from spacebench.algorithms import DAPSm\n",
    "from spacebench import SpaceDataset, DatasetEvaluator"
   ]
  },
  {
   "cell_type": "code",
   "execution_count": 2,
   "metadata": {
    "tags": []
   },
   "outputs": [],
   "source": [
    "df = pd.read_csv(\"space/examples/data/dapsm_toydata.csv\", index_col=0)\n",
    "X = df[[c for c in df.columns if c.startswith(\"X\")]].values\n",
    "A = df.Z.values\n",
    "beta = np.ones(X.shape[1])\n",
    "Y0 = X @ beta\n",
    "Y1 = Y0 + 10\n",
    "Y = Y0 * (1 - A) + Y1 * A\n",
    "long = df.long.values\n",
    "lat = df.lat.values\n",
    "dataset = SpaceDataset(\n",
    "    treatment=A,\n",
    "    covariates=X,\n",
    "    outcome=Y,\n",
    "    counterfactuals=np.stack([Y0, Y1], axis=1),\n",
    "    coordinates=np.stack([long, lat], axis=1),\n",
    "    edges=None,\n",
    "    treatment_values=[0, 1],\n",
    ")\n"
   ]
  },
  {
   "cell_type": "code",
   "execution_count": 3,
   "metadata": {
    "tags": []
   },
   "outputs": [
    {
     "name": "stdout",
     "output_type": "stream",
     "text": [
      "Estimated ATE:\n",
      " 5.081947774369604\n",
      "True ATE:\n",
      " 10.0\n",
      "Naive ATE estimate:\n",
      " 2.21141735563144\n",
      "Evaluator errros: {'ate_error': np.float64(-0.08525807568842865), 'ate': np.float64(0.08525807568842865), 'atc_error': np.float64(-0.08525807568842865), 'atc': np.float64(0.08525807568842865), 'att_error': np.float64(-0.08525807568842865), 'att': np.float64(0.08525807568842865), 'ite_curve': array([0.04934668, 0.06952586]), 'ite': np.float64(0.059436267812260794), 'erf_error': array([ 0.02856146, -0.05669662]), 'erf': np.float64(0.04262903784421415)}\n"
     ]
    }
   ],
   "source": [
    "method = DAPSm(spatial_weight=0.1)\n",
    "evaluator = DatasetEvaluator(dataset)\n",
    "method.fit(dataset)\n",
    "effects = method.eval(dataset)\n",
    "errors = evaluator.eval(**effects)\n",
    "\n",
    "print(\"Estimated ATE:\\n\", effects['ate'])\n",
    "print(\"True ATE:\\n\", Y1.mean() - Y0.mean())\n",
    "print(\"Naive ATE estimate:\\n\", Y[A == 1].mean() - Y[A == 0].mean())\n",
    "print(\"Evaluator errros:\", errors)\n"
   ]
  },
  {
   "cell_type": "code",
   "execution_count": 1,
   "metadata": {},
   "outputs": [
    {
     "name": "stdout",
     "output_type": "stream",
     "text": [
      "WARNING ⚠️ : this package contains data with synthetic outcomes!\n",
      "No inferences about the source data collection can be made.\n",
      "By using it, you agree to understand its limitations and purpose.\n",
      "The sole objective of SpaCE is to support the development of new\n",
      "spatial confounding methods.\n",
      "\n",
      "<bound method NDFrame.keys of           bin_NORTHEAST  bin_NORTHEAST_interact  bin_SOUTH  \\\n",
      "cs_white                                                     \n",
      "True                  0                     0.0          0   \n",
      "False                 0                     0.0          1   \n",
      "True                  0                     0.0          0   \n",
      "False                 0                     0.0          1   \n",
      "False                 0                     0.0          0   \n",
      "...                 ...                     ...        ...   \n",
      "False                 0                     0.0          1   \n",
      "False                 0                     0.0          1   \n",
      "False                 0                     0.0          1   \n",
      "True                  0                     0.0          0   \n",
      "False                 0                     0.0          1   \n",
      "\n",
      "          bin_SOUTH_interact  bin_WEST  bin_WEST_interact  cdc_mean_bmi  \\\n",
      "cs_white                                                                  \n",
      "True                     0.0         0                0.0   3150.473684   \n",
      "False                    0.0         0                0.0   3639.310345   \n",
      "True                     0.0         0                0.0   3320.181678   \n",
      "False                    0.0         0                0.0   3298.333333   \n",
      "False                    0.0         0                0.0   3083.011303   \n",
      "...                      ...       ...                ...           ...   \n",
      "False                    0.0         0                0.0   2666.020833   \n",
      "False                    0.0         0                0.0   2956.966258   \n",
      "False                    0.0         0                0.0   3224.324324   \n",
      "True                     0.0         0                0.0   2256.250000   \n",
      "False                    0.0         0                0.0   3364.191860   \n",
      "\n",
      "          cdc_mean_bmi_interact  cdc_pct_cusmoker  cdc_pct_cusmoker_interact  \\\n",
      "cs_white                                                                       \n",
      "True                3150.473684          0.210526                   0.210526   \n",
      "False                  0.000000          0.137931                   0.000000   \n",
      "True                3320.181678          0.038346                   0.038346   \n",
      "False                  0.000000          0.190476                   0.000000   \n",
      "False                  0.000000          0.101271                   0.000000   \n",
      "...                         ...               ...                        ...   \n",
      "False                  0.000000          0.125000                   0.000000   \n",
      "False                  0.000000          0.171779                   0.000000   \n",
      "False                  0.000000          0.297297                   0.000000   \n",
      "True                2256.250000          0.000000                   0.000000   \n",
      "False                  0.000000          0.220930                   0.000000   \n",
      "\n",
      "          ...  gmet_mean_winter_tmmx  gmet_mean_winter_tmmx_interact  \\\n",
      "cs_white  ...                                                          \n",
      "True      ...             272.720547                      272.720547   \n",
      "False     ...             283.761384                        0.000000   \n",
      "True      ...             265.943302                      265.943302   \n",
      "False     ...             288.730243                        0.000000   \n",
      "False     ...             275.035615                        0.000000   \n",
      "...       ...                    ...                             ...   \n",
      "False     ...             287.516719                        0.000000   \n",
      "False     ...             286.690574                        0.000000   \n",
      "False     ...             276.504055                        0.000000   \n",
      "True      ...             273.016171                      273.016171   \n",
      "False     ...             274.167009                        0.000000   \n",
      "\n",
      "          qd_mean_pm25  qd_mean_pm25_interact  cdc_mortality_pct_pred  \\\n",
      "cs_white                                                                \n",
      "True         12.137217              12.137217               24.015186   \n",
      "False         6.964704               0.000000               22.494140   \n",
      "True          8.728223               8.728223               22.555984   \n",
      "False         8.437816               0.000000               19.645037   \n",
      "False         5.202513               0.000000               22.161718   \n",
      "...                ...                    ...                     ...   \n",
      "False        10.766064               0.000000               24.274092   \n",
      "False        11.266711               0.000000               18.954815   \n",
      "False         9.817107               0.000000               20.607067   \n",
      "True         10.815367              10.815367               24.739712   \n",
      "False         9.116264               0.000000               23.268229   \n",
      "\n",
      "          cdc_mortality_pct_pred_00  cdc_mortality_pct_pred_01    Y_synth  \\\n",
      "cs_white                                                                    \n",
      "True                      22.884094                  24.015186  28.174225   \n",
      "False                     22.494140                  23.595646  24.297701   \n",
      "True                      21.274120                  22.555984  25.438159   \n",
      "False                     19.645037                  21.953240  19.563050   \n",
      "False                     22.161718                  22.441076  17.910755   \n",
      "...                             ...                        ...        ...   \n",
      "False                     24.274092                  25.199726  23.810811   \n",
      "False                     18.954815                  21.225690  17.669701   \n",
      "False                     20.607067                  21.199278  23.210672   \n",
      "True                      23.808329                  24.739712  23.096737   \n",
      "False                     23.268229                  24.194689  19.575260   \n",
      "\n",
      "          Y_synth_00  Y_synth_01  \n",
      "cs_white                          \n",
      "True       27.043133   28.174225  \n",
      "False      24.297701   25.399207  \n",
      "True       24.156294   25.438159  \n",
      "False      19.563050   21.871252  \n",
      "False      17.910755   18.190113  \n",
      "...              ...         ...  \n",
      "False      23.810811   24.736446  \n",
      "False      17.669701   19.940577  \n",
      "False      23.210672   23.802883  \n",
      "True       22.165354   23.096737  \n",
      "False      19.575260   20.501720  \n",
      "\n",
      "[2908 rows x 62 columns]>\n"
     ]
    },
    {
     "ename": "KeyError",
     "evalue": "'cs_white'",
     "output_type": "error",
     "traceback": [
      "\u001b[0;31m---------------------------------------------------------------------------\u001b[0m",
      "\u001b[0;31mKeyError\u001b[0m                                  Traceback (most recent call last)",
      "File \u001b[0;32m~/.conda/envs/benchmarks/lib/python3.10/site-packages/pandas/core/indexes/base.py:3805\u001b[0m, in \u001b[0;36mIndex.get_loc\u001b[0;34m(self, key)\u001b[0m\n\u001b[1;32m   3804\u001b[0m \u001b[38;5;28;01mtry\u001b[39;00m:\n\u001b[0;32m-> 3805\u001b[0m     \u001b[38;5;28;01mreturn\u001b[39;00m \u001b[38;5;28;43mself\u001b[39;49m\u001b[38;5;241;43m.\u001b[39;49m\u001b[43m_engine\u001b[49m\u001b[38;5;241;43m.\u001b[39;49m\u001b[43mget_loc\u001b[49m\u001b[43m(\u001b[49m\u001b[43mcasted_key\u001b[49m\u001b[43m)\u001b[49m\n\u001b[1;32m   3806\u001b[0m \u001b[38;5;28;01mexcept\u001b[39;00m \u001b[38;5;167;01mKeyError\u001b[39;00m \u001b[38;5;28;01mas\u001b[39;00m err:\n",
      "File \u001b[0;32mindex.pyx:167\u001b[0m, in \u001b[0;36mpandas._libs.index.IndexEngine.get_loc\u001b[0;34m()\u001b[0m\n",
      "File \u001b[0;32mindex.pyx:196\u001b[0m, in \u001b[0;36mpandas._libs.index.IndexEngine.get_loc\u001b[0;34m()\u001b[0m\n",
      "File \u001b[0;32mpandas/_libs/hashtable_class_helper.pxi:7081\u001b[0m, in \u001b[0;36mpandas._libs.hashtable.PyObjectHashTable.get_item\u001b[0;34m()\u001b[0m\n",
      "File \u001b[0;32mpandas/_libs/hashtable_class_helper.pxi:7089\u001b[0m, in \u001b[0;36mpandas._libs.hashtable.PyObjectHashTable.get_item\u001b[0;34m()\u001b[0m\n",
      "\u001b[0;31mKeyError\u001b[0m: 'cs_white'",
      "\nThe above exception was the direct cause of the following exception:\n",
      "\u001b[0;31mKeyError\u001b[0m                                  Traceback (most recent call last)",
      "Cell \u001b[0;32mIn[1], line 2\u001b[0m\n\u001b[1;32m      1\u001b[0m \u001b[38;5;28;01mimport\u001b[39;00m\u001b[38;5;250m \u001b[39m\u001b[38;5;21;01mspacebench\u001b[39;00m\n\u001b[0;32m----> 2\u001b[0m env \u001b[38;5;241m=\u001b[39m \u001b[43mspacebench\u001b[49m\u001b[38;5;241;43m.\u001b[39;49m\u001b[43mSpaceEnv\u001b[49m\u001b[43m(\u001b[49m\u001b[38;5;124;43m\"\u001b[39;49m\u001b[38;5;124;43mhealthd_dmgrcs_mortality_disc\u001b[39;49m\u001b[38;5;124;43m\"\u001b[39;49m\u001b[43m,\u001b[49m\u001b[43m \u001b[49m\u001b[38;5;28;43mdir\u001b[39;49m\u001b[38;5;241;43m=\u001b[39;49m\u001b[38;5;124;43m\"\u001b[39;49m\u001b[38;5;124;43mtmp_downloads\u001b[39;49m\u001b[38;5;124;43m\"\u001b[39;49m\u001b[43m)\u001b[49m\n",
      "File \u001b[0;32m/pscratch/sd/a/akhot/Spatial-CI/space/spacebench/env.py:318\u001b[0m, in \u001b[0;36mSpaceEnv.__init__\u001b[0;34m(self, name, dir)\u001b[0m\n\u001b[1;32m    316\u001b[0m \u001b[38;5;66;03m# -- 4. treatment --\u001b[39;00m\n\u001b[1;32m    317\u001b[0m \u001b[38;5;28mprint\u001b[39m(data\u001b[38;5;241m.\u001b[39mkeys)\n\u001b[0;32m--> 318\u001b[0m \u001b[38;5;28mself\u001b[39m\u001b[38;5;241m.\u001b[39mtreatment \u001b[38;5;241m=\u001b[39m \u001b[43mdata\u001b[49m\u001b[43m[\u001b[49m\u001b[38;5;28;43mself\u001b[39;49m\u001b[38;5;241;43m.\u001b[39;49m\u001b[43mmetadata\u001b[49m\u001b[43m[\u001b[49m\u001b[38;5;124;43m\"\u001b[39;49m\u001b[38;5;124;43mtreatment\u001b[39;49m\u001b[38;5;124;43m\"\u001b[39;49m\u001b[43m]\u001b[49m\u001b[43m]\u001b[49m\u001b[38;5;241m.\u001b[39mvalues\n\u001b[1;32m    319\u001b[0m \u001b[38;5;28mself\u001b[39m\u001b[38;5;241m.\u001b[39mtreatment_values \u001b[38;5;241m=\u001b[39m np\u001b[38;5;241m.\u001b[39marray(\n\u001b[1;32m    320\u001b[0m     \u001b[38;5;28msorted\u001b[39m(\u001b[38;5;28mfloat\u001b[39m(x) \u001b[38;5;28;01mfor\u001b[39;00m x \u001b[38;5;129;01min\u001b[39;00m \u001b[38;5;28mself\u001b[39m\u001b[38;5;241m.\u001b[39mmetadata[\u001b[38;5;124m\"\u001b[39m\u001b[38;5;124mtreatment_values\u001b[39m\u001b[38;5;124m\"\u001b[39m])\n\u001b[1;32m    321\u001b[0m )\n\u001b[1;32m    323\u001b[0m \u001b[38;5;66;03m# for 0/1 when treatment is binary\u001b[39;00m\n",
      "File \u001b[0;32m~/.conda/envs/benchmarks/lib/python3.10/site-packages/pandas/core/frame.py:4102\u001b[0m, in \u001b[0;36mDataFrame.__getitem__\u001b[0;34m(self, key)\u001b[0m\n\u001b[1;32m   4100\u001b[0m \u001b[38;5;28;01mif\u001b[39;00m \u001b[38;5;28mself\u001b[39m\u001b[38;5;241m.\u001b[39mcolumns\u001b[38;5;241m.\u001b[39mnlevels \u001b[38;5;241m>\u001b[39m \u001b[38;5;241m1\u001b[39m:\n\u001b[1;32m   4101\u001b[0m     \u001b[38;5;28;01mreturn\u001b[39;00m \u001b[38;5;28mself\u001b[39m\u001b[38;5;241m.\u001b[39m_getitem_multilevel(key)\n\u001b[0;32m-> 4102\u001b[0m indexer \u001b[38;5;241m=\u001b[39m \u001b[38;5;28;43mself\u001b[39;49m\u001b[38;5;241;43m.\u001b[39;49m\u001b[43mcolumns\u001b[49m\u001b[38;5;241;43m.\u001b[39;49m\u001b[43mget_loc\u001b[49m\u001b[43m(\u001b[49m\u001b[43mkey\u001b[49m\u001b[43m)\u001b[49m\n\u001b[1;32m   4103\u001b[0m \u001b[38;5;28;01mif\u001b[39;00m is_integer(indexer):\n\u001b[1;32m   4104\u001b[0m     indexer \u001b[38;5;241m=\u001b[39m [indexer]\n",
      "File \u001b[0;32m~/.conda/envs/benchmarks/lib/python3.10/site-packages/pandas/core/indexes/base.py:3812\u001b[0m, in \u001b[0;36mIndex.get_loc\u001b[0;34m(self, key)\u001b[0m\n\u001b[1;32m   3807\u001b[0m     \u001b[38;5;28;01mif\u001b[39;00m \u001b[38;5;28misinstance\u001b[39m(casted_key, \u001b[38;5;28mslice\u001b[39m) \u001b[38;5;129;01mor\u001b[39;00m (\n\u001b[1;32m   3808\u001b[0m         \u001b[38;5;28misinstance\u001b[39m(casted_key, abc\u001b[38;5;241m.\u001b[39mIterable)\n\u001b[1;32m   3809\u001b[0m         \u001b[38;5;129;01mand\u001b[39;00m \u001b[38;5;28many\u001b[39m(\u001b[38;5;28misinstance\u001b[39m(x, \u001b[38;5;28mslice\u001b[39m) \u001b[38;5;28;01mfor\u001b[39;00m x \u001b[38;5;129;01min\u001b[39;00m casted_key)\n\u001b[1;32m   3810\u001b[0m     ):\n\u001b[1;32m   3811\u001b[0m         \u001b[38;5;28;01mraise\u001b[39;00m InvalidIndexError(key)\n\u001b[0;32m-> 3812\u001b[0m     \u001b[38;5;28;01mraise\u001b[39;00m \u001b[38;5;167;01mKeyError\u001b[39;00m(key) \u001b[38;5;28;01mfrom\u001b[39;00m\u001b[38;5;250m \u001b[39m\u001b[38;5;21;01merr\u001b[39;00m\n\u001b[1;32m   3813\u001b[0m \u001b[38;5;28;01mexcept\u001b[39;00m \u001b[38;5;167;01mTypeError\u001b[39;00m:\n\u001b[1;32m   3814\u001b[0m     \u001b[38;5;66;03m# If we have a listlike key, _check_indexing_error will raise\u001b[39;00m\n\u001b[1;32m   3815\u001b[0m     \u001b[38;5;66;03m#  InvalidIndexError. Otherwise we fall through and re-raise\u001b[39;00m\n\u001b[1;32m   3816\u001b[0m     \u001b[38;5;66;03m#  the TypeError.\u001b[39;00m\n\u001b[1;32m   3817\u001b[0m     \u001b[38;5;28mself\u001b[39m\u001b[38;5;241m.\u001b[39m_check_indexing_error(key)\n",
      "\u001b[0;31mKeyError\u001b[0m: 'cs_white'"
     ]
    }
   ],
   "source": [
    "import spacebench\n",
    "env = spacebench.SpaceEnv(\"healthd_dmgrcs_mortality_disc\", dir=\"tmp_downloads\")"
   ]
  },
  {
   "cell_type": "code",
   "execution_count": null,
   "metadata": {},
   "outputs": [],
   "source": []
  }
 ],
 "metadata": {
  "kernelspec": {
   "display_name": "Python (benchmarks)",
   "language": "python",
   "name": "benchmarks"
  },
  "language_info": {
   "codemirror_mode": {
    "name": "ipython",
    "version": 3
   },
   "file_extension": ".py",
   "mimetype": "text/x-python",
   "name": "python",
   "nbconvert_exporter": "python",
   "pygments_lexer": "ipython3",
   "version": "3.10.17"
  }
 },
 "nbformat": 4,
 "nbformat_minor": 4
}
