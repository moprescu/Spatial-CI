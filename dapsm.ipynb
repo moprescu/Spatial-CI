{
 "cells": [
  {
   "cell_type": "code",
   "execution_count": 1,
   "metadata": {
    "execution": {
     "iopub.execute_input": "2025-06-03T14:36:18.635856Z",
     "iopub.status.busy": "2025-06-03T14:36:18.635492Z",
     "iopub.status.idle": "2025-06-03T14:36:31.090323Z",
     "shell.execute_reply": "2025-06-03T14:36:31.089808Z",
     "shell.execute_reply.started": "2025-06-03T14:36:18.635838Z"
    },
    "tags": []
   },
   "outputs": [
    {
     "name": "stdout",
     "output_type": "stream",
     "text": [
      "WARNING ⚠️ : this package contains data with synthetic outcomes!\n",
      "No inferences about the source data collection can be made.\n",
      "By using it, you agree to understand its limitations and purpose.\n",
      "The sole objective of SpaCE is to support the development of new\n",
      "spatial confounding methods.\n",
      "\n"
     ]
    }
   ],
   "source": [
    "import numpy as np\n",
    "import pandas as pd\n",
    "\n",
    "from spacebench.algorithms import DAPSm\n",
    "from spacebench import SpaceDataset, DatasetEvaluator"
   ]
  },
  {
   "cell_type": "code",
   "execution_count": 3,
   "metadata": {
    "execution": {
     "iopub.execute_input": "2025-06-03T14:36:42.031602Z",
     "iopub.status.busy": "2025-06-03T14:36:42.031378Z",
     "iopub.status.idle": "2025-06-03T14:36:42.040749Z",
     "shell.execute_reply": "2025-06-03T14:36:42.040361Z",
     "shell.execute_reply.started": "2025-06-03T14:36:42.031588Z"
    },
    "tags": []
   },
   "outputs": [],
   "source": [
    "df = pd.read_csv(\"space/examples/data/dapsm_toydata.csv\", index_col=0)\n",
    "X = df[[c for c in df.columns if c.startswith(\"X\")]].values\n",
    "A = df.Z.values\n",
    "beta = np.ones(X.shape[1])\n",
    "Y0 = X @ beta\n",
    "Y1 = Y0 + 10\n",
    "Y = Y0 * (1 - A) + Y1 * A\n",
    "long = df.long.values\n",
    "lat = df.lat.values\n",
    "dataset = SpaceDataset(\n",
    "    treatment=A,\n",
    "    covariates=X,\n",
    "    outcome=Y,\n",
    "    counterfactuals=np.stack([Y0, Y1], axis=1),\n",
    "    coordinates=np.stack([long, lat], axis=1),\n",
    "    edges=None,\n",
    "    treatment_values=[0, 1],\n",
    ")\n"
   ]
  },
  {
   "cell_type": "code",
   "execution_count": 5,
   "metadata": {
    "execution": {
     "iopub.execute_input": "2025-06-03T14:36:48.251444Z",
     "iopub.status.busy": "2025-06-03T14:36:48.251214Z",
     "iopub.status.idle": "2025-06-03T14:36:48.257549Z",
     "shell.execute_reply": "2025-06-03T14:36:48.257156Z",
     "shell.execute_reply.started": "2025-06-03T14:36:48.251429Z"
    },
    "tags": []
   },
   "outputs": [
    {
     "name": "stdout",
     "output_type": "stream",
     "text": [
      "Estimated ATE:\n",
      " 5.081947774369604\n",
      "True ATE:\n",
      " 10.0\n",
      "Naive ATE estimate:\n",
      " 2.21141735563144\n",
      "Evaluator errros: {'ate_error': np.float64(-0.08525807568842865), 'ate': np.float64(0.08525807568842865), 'atc_error': np.float64(-0.08525807568842865), 'atc': np.float64(0.08525807568842865), 'att_error': np.float64(-0.08525807568842865), 'att': np.float64(0.08525807568842865), 'ite_curve': array([0.04934668, 0.06952586]), 'ite': np.float64(0.059436267812260794), 'erf_error': array([ 0.02856146, -0.05669662]), 'erf': np.float64(0.04262903784421415)}\n"
     ]
    }
   ],
   "source": [
    "method = DAPSm(spatial_weight=0.1)\n",
    "evaluator = DatasetEvaluator(dataset)\n",
    "method.fit(dataset)\n",
    "effects = method.eval(dataset)\n",
    "errors = evaluator.eval(**effects)\n",
    "\n",
    "print(\"Estimated ATE:\\n\", effects['ate'])\n",
    "print(\"True ATE:\\n\", Y1.mean() - Y0.mean())\n",
    "print(\"Naive ATE estimate:\\n\", Y[A == 1].mean() - Y[A == 0].mean())\n",
    "print(\"Evaluator errros:\", errors)\n"
   ]
  },
  {
   "cell_type": "code",
   "execution_count": null,
   "metadata": {},
   "outputs": [],
   "source": []
  }
 ],
 "metadata": {
  "kernelspec": {
   "display_name": "Python (benchmarks)",
   "language": "python",
   "name": "benchmarks"
  },
  "language_info": {
   "codemirror_mode": {
    "name": "ipython",
    "version": 3
   },
   "file_extension": ".py",
   "mimetype": "text/x-python",
   "name": "python",
   "nbconvert_exporter": "python",
   "pygments_lexer": "ipython3",
   "version": "3.10.17"
  }
 },
 "nbformat": 4,
 "nbformat_minor": 4
}
