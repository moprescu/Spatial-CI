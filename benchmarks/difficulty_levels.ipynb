{
 "cells": [
  {
   "cell_type": "markdown",
   "metadata": {},
   "source": [
    "# Space datasets description"
   ]
  },
  {
   "cell_type": "code",
   "execution_count": 1,
   "metadata": {
    "execution": {
     "iopub.execute_input": "2025-06-19T01:59:20.280177Z",
     "iopub.status.busy": "2025-06-19T01:59:20.280014Z",
     "iopub.status.idle": "2025-06-19T01:59:27.660646Z",
     "shell.execute_reply": "2025-06-19T01:59:27.660081Z",
     "shell.execute_reply.started": "2025-06-19T01:59:20.280159Z"
    },
    "tags": []
   },
   "outputs": [
    {
     "name": "stdout",
     "output_type": "stream",
     "text": [
      "WARNING ⚠️ : this package contains data with synthetic outcomes!\n",
      "No inferences about the source data collection can be made.\n",
      "By using it, you agree to understand its limitations and purpose.\n",
      "The sole objective of SpaCE is to support the development of new\n",
      "spatial confounding methods.\n",
      "\n",
      "WARNING ⚠️ : this package contains data with synthetic outcomes!\n",
      "No inferences about the source data collection can be made.\n",
      "By using it, you agree to understand its limitations and purpose.\n",
      "The sole objective of SpaCE is to support the development of new\n",
      "spatial confounding methods.\n",
      "\n"
     ]
    },
    {
     "name": "stderr",
     "output_type": "stream",
     "text": [
      "/home/idies/workspace/Temporary/akhot2/scratch/spacedata/lib/python3.10/site-packages/proplot/__init__.py:71: ProplotWarning: Rebuilding font cache. This usually happens after installing or updating proplot.\n",
      "  register_fonts(default=True)\n"
     ]
    }
   ],
   "source": [
    "import numpy as np\n",
    "from sci import SpaceEnv, DataMaster\n",
    "import matplotlib.pyplot as plt\n",
    "import proplot as pplt"
   ]
  },
  {
   "cell_type": "code",
   "execution_count": 2,
   "metadata": {
    "execution": {
     "iopub.execute_input": "2025-06-19T01:59:29.558146Z",
     "iopub.status.busy": "2025-06-19T01:59:29.557580Z",
     "iopub.status.idle": "2025-06-19T01:59:29.565205Z",
     "shell.execute_reply": "2025-06-19T01:59:29.564725Z",
     "shell.execute_reply.started": "2025-06-19T01:59:29.558119Z"
    },
    "tags": []
   },
   "outputs": [
    {
     "data": {
      "text/plain": [
       "Available datasets (total: 4):\n",
       "\n",
       "  healthd_dmgrcs_mortality_disc\n",
       "  climate_wfsmoke_minrty_disc\n",
       "  county_dmgrcs_election_disc\n",
       "  cdcsvi_nohsdp_poverty_disc"
      ]
     },
     "execution_count": 2,
     "metadata": {},
     "output_type": "execute_result"
    }
   ],
   "source": [
    "space_master = DataMaster()\n",
    "space_master"
   ]
  },
  {
   "cell_type": "code",
   "execution_count": 3,
   "metadata": {
    "execution": {
     "iopub.execute_input": "2025-06-19T01:59:32.598128Z",
     "iopub.status.busy": "2025-06-19T01:59:32.597807Z",
     "iopub.status.idle": "2025-06-19T01:59:32.607766Z",
     "shell.execute_reply": "2025-06-19T01:59:32.607288Z",
     "shell.execute_reply.started": "2025-06-19T01:59:32.598104Z"
    }
   },
   "outputs": [
    {
     "data": {
      "text/html": [
       "<div>\n",
       "<style scoped>\n",
       "    .dataframe tbody tr th:only-of-type {\n",
       "        vertical-align: middle;\n",
       "    }\n",
       "\n",
       "    .dataframe tbody tr th {\n",
       "        vertical-align: top;\n",
       "    }\n",
       "\n",
       "    .dataframe thead th {\n",
       "        text-align: right;\n",
       "    }\n",
       "</style>\n",
       "<table border=\"1\" class=\"dataframe\">\n",
       "  <thead>\n",
       "    <tr style=\"text-align: right;\">\n",
       "      <th></th>\n",
       "      <th>treatment_type</th>\n",
       "      <th>collection</th>\n",
       "    </tr>\n",
       "    <tr>\n",
       "      <th>environments</th>\n",
       "      <th></th>\n",
       "      <th></th>\n",
       "    </tr>\n",
       "  </thead>\n",
       "  <tbody>\n",
       "    <tr>\n",
       "      <th>healthd_dmgrcs_mortality_disc</th>\n",
       "      <td>binary</td>\n",
       "      <td>Air Pollution and Mortality</td>\n",
       "    </tr>\n",
       "    <tr>\n",
       "      <th>climate_wfsmoke_minrty_disc</th>\n",
       "      <td>binary</td>\n",
       "      <td>Heat Exposure and Wildfires</td>\n",
       "    </tr>\n",
       "    <tr>\n",
       "      <th>county_dmgrcs_election_disc</th>\n",
       "      <td>binary</td>\n",
       "      <td>Welfare and Elections</td>\n",
       "    </tr>\n",
       "    <tr>\n",
       "      <th>cdcsvi_nohsdp_poverty_disc</th>\n",
       "      <td>binary</td>\n",
       "      <td>Social Vulnerability and Welfare</td>\n",
       "    </tr>\n",
       "  </tbody>\n",
       "</table>\n",
       "</div>"
      ],
      "text/plain": [
       "                              treatment_type                        collection\n",
       "environments                                                                  \n",
       "healthd_dmgrcs_mortality_disc         binary       Air Pollution and Mortality\n",
       "climate_wfsmoke_minrty_disc           binary       Heat Exposure and Wildfires\n",
       "county_dmgrcs_election_disc           binary             Welfare and Elections\n",
       "cdcsvi_nohsdp_poverty_disc            binary  Social Vulnerability and Welfare"
      ]
     },
     "execution_count": 3,
     "metadata": {},
     "output_type": "execute_result"
    }
   ],
   "source": [
    "master = space_master.master.copy()\n",
    "master"
   ]
  },
  {
   "cell_type": "code",
   "execution_count": 4,
   "metadata": {
    "execution": {
     "iopub.execute_input": "2025-06-19T01:59:34.539847Z",
     "iopub.status.busy": "2025-06-19T01:59:34.539504Z",
     "iopub.status.idle": "2025-06-19T01:59:34.544031Z",
     "shell.execute_reply": "2025-06-19T01:59:34.543537Z",
     "shell.execute_reply.started": "2025-06-19T01:59:34.539825Z"
    }
   },
   "outputs": [
    {
     "data": {
      "text/plain": [
       "['Air Pollution and Mortality',\n",
       " 'Heat Exposure and Wildfires',\n",
       " 'Welfare and Elections',\n",
       " 'Social Vulnerability and Welfare']"
      ]
     },
     "execution_count": 4,
     "metadata": {},
     "output_type": "execute_result"
    }
   ],
   "source": [
    "collections = space_master.list_collections()\n",
    "collections"
   ]
  },
  {
   "cell_type": "code",
   "execution_count": 5,
   "metadata": {
    "execution": {
     "iopub.execute_input": "2025-06-19T01:59:36.202045Z",
     "iopub.status.busy": "2025-06-19T01:59:36.201703Z",
     "iopub.status.idle": "2025-06-19T01:59:36.205772Z",
     "shell.execute_reply": "2025-06-19T01:59:36.205328Z",
     "shell.execute_reply.started": "2025-06-19T01:59:36.202020Z"
    }
   },
   "outputs": [
    {
     "data": {
      "text/plain": [
       "['healthd_dmgrcs_mortality_disc',\n",
       " 'climate_wfsmoke_minrty_disc',\n",
       " 'county_dmgrcs_election_disc',\n",
       " 'cdcsvi_nohsdp_poverty_disc']"
      ]
     },
     "execution_count": 5,
     "metadata": {},
     "output_type": "execute_result"
    }
   ],
   "source": [
    "space_envs = space_master.list_envs()\n",
    "space_envs"
   ]
  },
  {
   "cell_type": "code",
   "execution_count": 6,
   "metadata": {
    "execution": {
     "iopub.execute_input": "2025-06-19T01:59:38.762764Z",
     "iopub.status.busy": "2025-06-19T01:59:38.762422Z",
     "iopub.status.idle": "2025-06-19T01:59:38.766387Z",
     "shell.execute_reply": "2025-06-19T01:59:38.765948Z",
     "shell.execute_reply.started": "2025-06-19T01:59:38.762740Z"
    }
   },
   "outputs": [
    {
     "data": {
      "text/plain": [
       "4"
      ]
     },
     "execution_count": 6,
     "metadata": {},
     "output_type": "execute_result"
    }
   ],
   "source": [
    "len(space_envs)"
   ]
  },
  {
   "cell_type": "code",
   "execution_count": 7,
   "metadata": {
    "execution": {
     "iopub.execute_input": "2025-06-19T01:59:39.548013Z",
     "iopub.status.busy": "2025-06-19T01:59:39.547686Z",
     "iopub.status.idle": "2025-06-19T01:59:41.345348Z",
     "shell.execute_reply": "2025-06-19T01:59:41.344793Z",
     "shell.execute_reply.started": "2025-06-19T01:59:39.547993Z"
    }
   },
   "outputs": [
    {
     "name": "stdout",
     "output_type": "stream",
     "text": [
      "Downloaded: filename healthd_dmgrcs_mortality_disc.zip, id 11646679, saved to /tmp/healthd_dmgrcs_mortality_disc.zip\n"
     ]
    },
    {
     "data": {
      "text/plain": [
       "SpaceEnv with birth certificate config:\n",
       "{\n",
       "  \"spaceenv\": {\n",
       "    \"base_name\": \"${hydra:runtime.choices.spaceenv}\",\n",
       "    \"covariates\": [\n",
       "      \"qd_mean_pm25\",\n",
       "      {\n",
       "        \"poverty\": [\n",
       "          \"cs_poverty\",\n",
       "          \"cs_ed_below_highschool\"\n",
       "        ]\n",
       "      },\n",
       "      \"cs_population_density\",\n",
       "      \"cdc_mean_bmi\",\n",
       "      {\n",
       "        \"smoking\": [\n",
       "          \"cdc_pct_cusmoker\",\n",
       "          \"cdc_pct_sdsmoker\",\n",
       "          \"cdc_pct_fmsmoker\",\n",
       "          \"cdc_pct_nvsmoker\",\n",
       "          \"cdc_pct_nnsmoker\"\n",
       "        ]\n",
       "      },\n",
       "      {\n",
       "        \"temperature\": [\n",
       "          \"gmet_mean_tmmn\",\n",
       "          \"gmet_mean_summer_tmmn\",\n",
       "          \"gmet_mean_winter_tmmn\",\n",
       "          \"gmet_mean_tmmx\",\n",
       "          \"gmet_mean_summer_tmmx\",\n",
       "          \"gmet_mean_winter_tmmx\"\n",
       "        ]\n",
       "      },\n",
       "      {\n",
       "        \"relative_humidity\": [\n",
       "          \"gmet_mean_rmn\",\n",
       "          \"gmet_mean_summer_rmn\",\n",
       "          \"gmet_mean_winter_rmn\",\n",
       "          \"gmet_mean_rmx\",\n",
       "          \"gmet_mean_summer_rmx\",\n",
       "          \"gmet_mean_winter_rmx\"\n",
       "        ]\n",
       "      },\n",
       "      {\n",
       "        \"specific_humidity\": [\n",
       "          \"gmet_mean_sph\",\n",
       "          \"gmet_mean_summer_sph\",\n",
       "          \"gmet_mean_winter_sph\"\n",
       "        ]\n",
       "      },\n",
       "      {\n",
       "        \"region\": [\n",
       "          \"bin_NORTHEAST\",\n",
       "          \"bin_SOUTH\",\n",
       "          \"bin_WEST\"\n",
       "        ]\n",
       "      }\n",
       "    ],\n",
       "    \"outcome\": \"cdc_mortality_pct\",\n",
       "    \"treament\": \"???\",\n",
       "    \"index_col\": \"0\",\n",
       "    \"treatment_max_bins\": \"100\",\n",
       "    \"scaling\": {\n",
       "      \"outcome\": \"null\",\n",
       "      \"treatment\": \"null\",\n",
       "      \"covariates\": \"null\"\n",
       "    },\n",
       "    \"transforms\": {\n",
       "      \"outcome\": \"null\",\n",
       "      \"treatment\": \"qbinary(0.60)\",\n",
       "      \"covariates\": \"null\"\n",
       "    },\n",
       "    \"fill_missing_covariate_values\": \"true\",\n",
       "    \"bsplines\": \"false\",\n",
       "    \"bsplines_degree\": \"3\",\n",
       "    \"bsplines_df\": \"5\",\n",
       "    \"binary_treatment_iteractions\": \"true\",\n",
       "    \"seed\": \"42\",\n",
       "    \"autogluon\": {\n",
       "      \"fit\": {\n",
       "        \"presets\": \"good_quality\",\n",
       "        \"time_limit\": \"900\"\n",
       "      },\n",
       "      \"leave_out_fit\": {\n",
       "        \"presets\": \"good_quality\",\n",
       "        \"time_limit\": \"900\"\n",
       "      },\n",
       "      \"feat_importance\": {\n",
       "        \"time_limit\": \"900\"\n",
       "      }\n",
       "    },\n",
       "    \"spatial_tuning\": {\n",
       "      \"init_frac\": \"0.03\",\n",
       "      \"levels\": \"1\",\n",
       "      \"buffer\": \"1\"\n",
       "    },\n",
       "    \"treatment_quantile_valid_range\": [\n",
       "      \"0.025\",\n",
       "      \"0.975\"\n",
       "    ],\n",
       "    \"outcome_quantile_valid_range\": [\n",
       "      \"0.01\",\n",
       "      \"0.99\"\n",
       "    ],\n",
       "    \"ensemble_models\": [\n",
       "      \"FASTAI\",\n",
       "      \"CAT\",\n",
       "      \"NN_TORCH\",\n",
       "      \"XGB\"\n",
       "    ],\n",
       "    \"collection\": \"air_pollution_mortality_us\",\n",
       "    \"treatment\": \"cs_white\"\n",
       "  },\n",
       "  \"num_plot_samples\": \"50\",\n",
       "  \"debug_subsample\": \"null\"\n",
       "}\n",
       "WARNING ⚠️ : this env contains data with a (realistic) synthetic outcome!\n",
       "No inferences about the source data collection can be made.\n",
       "By using it, you agree to understand its limitations."
      ]
     },
     "execution_count": 7,
     "metadata": {},
     "output_type": "execute_result"
    }
   ],
   "source": [
    "envname = space_envs[0]\n",
    "env = SpaceEnv(envname)\n",
    "env"
   ]
  },
  {
   "cell_type": "code",
   "execution_count": 8,
   "metadata": {
    "execution": {
     "iopub.execute_input": "2025-06-19T01:59:59.235936Z",
     "iopub.status.busy": "2025-06-19T01:59:59.235609Z",
     "iopub.status.idle": "2025-06-19T02:00:06.766195Z",
     "shell.execute_reply": "2025-06-19T02:00:06.765662Z",
     "shell.execute_reply.started": "2025-06-19T01:59:59.235916Z"
    }
   },
   "outputs": [
    {
     "name": "stdout",
     "output_type": "stream",
     "text": [
      "Downloaded: filename healthd_dmgrcs_mortality_disc.zip, id 11646679, saved to downloads/healthd_dmgrcs_mortality_disc.zip\n",
      "Downloaded: filename climate_wfsmoke_minrty_disc.zip, id 11646676, saved to downloads/climate_wfsmoke_minrty_disc.zip\n",
      "Downloaded: filename county_dmgrcs_election_disc.zip, id 11646673, saved to downloads/county_dmgrcs_election_disc.zip\n",
      "Downloaded: filename cdcsvi_nohsdp_poverty_disc.zip, id 11646678, saved to downloads/cdcsvi_nohsdp_poverty_disc.zip\n"
     ]
    }
   ],
   "source": [
    "for s in space_envs:\n",
    "    env = SpaceEnv(s, dir=\"downloads\") # to download all environments"
   ]
  },
  {
   "cell_type": "markdown",
   "metadata": {},
   "source": [
    "## Summarize number of covariates"
   ]
  },
  {
   "cell_type": "code",
   "execution_count": 9,
   "metadata": {
    "execution": {
     "iopub.execute_input": "2025-06-19T02:00:14.130627Z",
     "iopub.status.busy": "2025-06-19T02:00:14.130290Z",
     "iopub.status.idle": "2025-06-19T02:00:18.775703Z",
     "shell.execute_reply": "2025-06-19T02:00:18.775183Z",
     "shell.execute_reply.started": "2025-06-19T02:00:14.130606Z"
    }
   },
   "outputs": [
    {
     "name": "stdout",
     "output_type": "stream",
     "text": [
      "Downloaded: filename climate_wfsmoke_minrty_disc.zip, id 11646676, saved to /tmp/climate_wfsmoke_minrty_disc.zip\n",
      "Downloaded: filename county_dmgrcs_election_disc.zip, id 11646673, saved to /tmp/county_dmgrcs_election_disc.zip\n",
      "Downloaded: filename cdcsvi_nohsdp_poverty_disc.zip, id 11646678, saved to /tmp/cdcsvi_nohsdp_poverty_disc.zip\n"
     ]
    },
    {
     "data": {
      "text/plain": [
       "{'healthd_dmgrcs_mortality_disc': 9,\n",
       " 'climate_wfsmoke_minrty_disc': 10,\n",
       " 'county_dmgrcs_election_disc': 14,\n",
       " 'cdcsvi_nohsdp_poverty_disc': 11}"
      ]
     },
     "execution_count": 9,
     "metadata": {},
     "output_type": "execute_result"
    }
   ],
   "source": [
    "num_covars = dict()\n",
    "for s in space_envs:\n",
    "    env = SpaceEnv(s)\n",
    "    num_covars[s] = len(env.metadata[\"covariate_groups\"])\n",
    "num_covars"
   ]
  },
  {
   "cell_type": "code",
   "execution_count": 10,
   "metadata": {
    "execution": {
     "iopub.execute_input": "2025-06-19T02:00:22.098329Z",
     "iopub.status.busy": "2025-06-19T02:00:22.097881Z",
     "iopub.status.idle": "2025-06-19T02:00:22.102433Z",
     "shell.execute_reply": "2025-06-19T02:00:22.102013Z",
     "shell.execute_reply.started": "2025-06-19T02:00:22.098299Z"
    }
   },
   "outputs": [
    {
     "data": {
      "text/plain": [
       "44"
      ]
     },
     "execution_count": 10,
     "metadata": {},
     "output_type": "execute_result"
    }
   ],
   "source": [
    "sum(num_covars.values())"
   ]
  },
  {
   "cell_type": "code",
   "execution_count": 11,
   "metadata": {
    "execution": {
     "iopub.execute_input": "2025-06-19T02:00:23.320057Z",
     "iopub.status.busy": "2025-06-19T02:00:23.319736Z",
     "iopub.status.idle": "2025-06-19T02:00:26.127669Z",
     "shell.execute_reply": "2025-06-19T02:00:26.127152Z",
     "shell.execute_reply.started": "2025-06-19T02:00:23.320037Z"
    }
   },
   "outputs": [
    {
     "name": "stdout",
     "output_type": "stream",
     "text": [
      "0    healthd_dmgrcs_mortality_disc\n",
      "Name: environments, dtype: object\n",
      "1    climate_wfsmoke_minrty_disc\n",
      "Name: environments, dtype: object\n",
      "2    county_dmgrcs_election_disc\n",
      "Name: environments, dtype: object\n",
      "3    cdcsvi_nohsdp_poverty_disc\n",
      "Name: environments, dtype: object\n"
     ]
    },
    {
     "data": {
      "text/plain": [
       "{'Air Pollution and Mortality': 28,\n",
       " 'Heat Exposure and Wildfires': 22,\n",
       " 'Welfare and Elections': 40,\n",
       " 'Social Vulnerability and Welfare': 11}"
      ]
     },
     "execution_count": 11,
     "metadata": {},
     "output_type": "execute_result"
    }
   ],
   "source": [
    "master = space_master.master.copy()\n",
    "master.reset_index(inplace=True)\n",
    "\n",
    "num_covars = dict()\n",
    "for c in collections:\n",
    "    environments = master.environments[master.collection == c]\n",
    "    print(environments)\n",
    "    covars = []\n",
    "    for e in environments:\n",
    "        env = SpaceEnv(e)\n",
    "        covars.extend(env.metadata[\"covariates\"])\n",
    "    num_covars[c] = len(set(covars))\n",
    "num_covars"
   ]
  },
  {
   "cell_type": "markdown",
   "metadata": {},
   "source": [
    "## Summarize graph nodes and edges"
   ]
  },
  {
   "cell_type": "code",
   "execution_count": 12,
   "metadata": {
    "execution": {
     "iopub.execute_input": "2025-06-19T02:00:40.786744Z",
     "iopub.status.busy": "2025-06-19T02:00:40.786408Z",
     "iopub.status.idle": "2025-06-19T02:00:43.605418Z",
     "shell.execute_reply": "2025-06-19T02:00:43.604918Z",
     "shell.execute_reply.started": "2025-06-19T02:00:40.786723Z"
    }
   },
   "outputs": [
    {
     "data": {
      "text/plain": [
       "{'healthd_dmgrcs_mortality_disc': {'nodes': 2908, 'edges': 8241},\n",
       " 'climate_wfsmoke_minrty_disc': {'nodes': 8451, 'edges': 25812},\n",
       " 'county_dmgrcs_election_disc': {'nodes': 3044, 'edges': 8918},\n",
       " 'cdcsvi_nohsdp_poverty_disc': {'nodes': 6693, 'edges': 20861}}"
      ]
     },
     "execution_count": 12,
     "metadata": {},
     "output_type": "execute_result"
    }
   ],
   "source": [
    "num_nodes = dict()\n",
    "for s in space_envs:\n",
    "    env = SpaceEnv(s)\n",
    "    num_nodes[s] = {\n",
    "        'nodes': env.graph.number_of_nodes(), #len(list(env.graph))\n",
    "        'edges': env.graph.number_of_edges() \n",
    "    }\n",
    "num_nodes"
   ]
  },
  {
   "cell_type": "markdown",
   "metadata": {},
   "source": [
    "##"
   ]
  },
  {
   "cell_type": "markdown",
   "metadata": {},
   "source": [
    "## Summarize feature importance"
   ]
  },
  {
   "cell_type": "code",
   "execution_count": 13,
   "metadata": {
    "execution": {
     "iopub.execute_input": "2025-06-19T02:01:29.354251Z",
     "iopub.status.busy": "2025-06-19T02:01:29.353924Z",
     "iopub.status.idle": "2025-06-19T02:01:29.358030Z",
     "shell.execute_reply": "2025-06-19T02:01:29.357590Z",
     "shell.execute_reply.started": "2025-06-19T02:01:29.354230Z"
    }
   },
   "outputs": [
    {
     "data": {
      "text/plain": [
       "{'EP_NOINT': '0.1509598707779215',\n",
       " 'EP_DISABL': '0.06052701279781069',\n",
       " 'EP_NOVEH': '0.060194651694844246',\n",
       " 'treatment': '0.05999014408536914',\n",
       " 'EP_SNGPNT': '0.04578156449395203',\n",
       " 'EP_AGE65': '0.043701514037741',\n",
       " 'EP_AGE17': '0.030932289034239873',\n",
       " 'EP_UNEMP': '0.0303513464861159',\n",
       " 'EP_LIMENG': '0.024465441527404142',\n",
       " 'EP_MUNIT': '0.021784199138451903',\n",
       " 'EP_MINRTY': '0.01687839256364568',\n",
       " 'RPL_THEME3': '0.011713168913119475'}"
      ]
     },
     "execution_count": 13,
     "metadata": {},
     "output_type": "execute_result"
    }
   ],
   "source": [
    "env.metadata[\"outcome_importance\"]"
   ]
  },
  {
   "cell_type": "code",
   "execution_count": 14,
   "metadata": {
    "execution": {
     "iopub.execute_input": "2025-06-19T02:01:32.047722Z",
     "iopub.status.busy": "2025-06-19T02:01:32.047396Z",
     "iopub.status.idle": "2025-06-19T02:01:32.051303Z",
     "shell.execute_reply": "2025-06-19T02:01:32.050892Z",
     "shell.execute_reply.started": "2025-06-19T02:01:32.047701Z"
    }
   },
   "outputs": [
    {
     "data": {
      "text/plain": [
       "{'EP_LIMENG': '0.3964907017213224',\n",
       " 'EP_NOINT': '0.17155032804247752',\n",
       " 'EP_MUNIT': '0.05998813517646269',\n",
       " 'EP_DISABL': '0.03995173482993479',\n",
       " 'EP_MINRTY': '0.0197337356887254',\n",
       " 'EP_AGE17': '0.015193765821687334',\n",
       " 'EP_NOVEH': '0.015133232890126866',\n",
       " 'EP_SNGPNT': '0.008414077486910566',\n",
       " 'EP_UNEMP': '0.006961287129458354',\n",
       " 'EP_AGE65': '0.006416490745413756',\n",
       " 'RPL_THEME3': '0.002966113646464891'}"
      ]
     },
     "execution_count": 14,
     "metadata": {},
     "output_type": "execute_result"
    }
   ],
   "source": [
    "env.metadata[\"treatment_importance\"]"
   ]
  },
  {
   "cell_type": "code",
   "execution_count": 15,
   "metadata": {
    "execution": {
     "iopub.execute_input": "2025-06-19T02:01:35.518185Z",
     "iopub.status.busy": "2025-06-19T02:01:35.517836Z",
     "iopub.status.idle": "2025-06-19T02:01:35.522197Z",
     "shell.execute_reply": "2025-06-19T02:01:35.521678Z",
     "shell.execute_reply.started": "2025-06-19T02:01:35.518163Z"
    }
   },
   "outputs": [
    {
     "data": {
      "text/plain": [
       "{'EP_NOINT': '0.1509598707779215',\n",
       " 'EP_DISABL': '0.03995173482993479',\n",
       " 'EP_LIMENG': '0.024465441527404142',\n",
       " 'EP_MUNIT': '0.021784199138451903',\n",
       " 'EP_MINRTY': '0.01687839256364568',\n",
       " 'EP_AGE17': '0.015193765821687334',\n",
       " 'EP_NOVEH': '0.015133232890126866',\n",
       " 'EP_SNGPNT': '0.008414077486910566',\n",
       " 'EP_UNEMP': '0.006961287129458354',\n",
       " 'EP_AGE65': '0.006416490745413756',\n",
       " 'RPL_THEME3': '0.002966113646464891'}"
      ]
     },
     "execution_count": 15,
     "metadata": {},
     "output_type": "execute_result"
    }
   ],
   "source": [
    "env.metadata[\"confounding_score\"]"
   ]
  },
  {
   "cell_type": "code",
   "execution_count": 16,
   "metadata": {
    "execution": {
     "iopub.execute_input": "2025-06-19T02:01:38.109023Z",
     "iopub.status.busy": "2025-06-19T02:01:38.108707Z",
     "iopub.status.idle": "2025-06-19T02:01:40.851233Z",
     "shell.execute_reply": "2025-06-19T02:01:40.850765Z",
     "shell.execute_reply.started": "2025-06-19T02:01:38.109003Z"
    }
   },
   "outputs": [
    {
     "data": {
      "text/plain": [
       "{'healthd_dmgrcs_mortality_disc': {'min': '0.00023874742012500045',\n",
       "  'max': '0.022203510071625906'},\n",
       " 'climate_wfsmoke_minrty_disc': {'min': '0.008271727367934195',\n",
       "  'max': '0.07180853171249046'},\n",
       " 'county_dmgrcs_election_disc': {'min': '0.0', 'max': '0.06879994648475256'},\n",
       " 'cdcsvi_nohsdp_poverty_disc': {'min': '0.002966113646464891',\n",
       "  'max': '0.1509598707779215'}}"
      ]
     },
     "execution_count": 16,
     "metadata": {},
     "output_type": "execute_result"
    }
   ],
   "source": [
    "conf_score = dict()\n",
    "for s in space_envs:\n",
    "    env = SpaceEnv(s)\n",
    "    conf_score[s] = {\n",
    "        'min': min(env.metadata[\"confounding_score\"].values()), #len(list(env.graph))\n",
    "        'max': max(env.metadata[\"confounding_score\"].values())\n",
    "    }\n",
    "conf_score"
   ]
  },
  {
   "cell_type": "code",
   "execution_count": 17,
   "metadata": {
    "execution": {
     "iopub.execute_input": "2025-06-19T02:02:34.868129Z",
     "iopub.status.busy": "2025-06-19T02:02:34.867800Z",
     "iopub.status.idle": "2025-06-19T02:02:34.871166Z",
     "shell.execute_reply": "2025-06-19T02:02:34.870711Z",
     "shell.execute_reply.started": "2025-06-19T02:02:34.868108Z"
    }
   },
   "outputs": [
    {
     "name": "stdout",
     "output_type": "stream",
     "text": [
      "base_name\n",
      "treatment\n",
      "predicted_outcome\n",
      "synthetic_outcome\n",
      "confounding_score\n",
      "confounding_score_erf\n",
      "confounding_score_ite\n",
      "confounding_score_ate\n",
      "spatial_scores\n",
      "outcome_importance\n",
      "treatment_importance\n",
      "covariates\n",
      "treatment_values\n",
      "covariate_groups\n",
      "original_residual_spatial_score\n",
      "synthetic_residual_spatial_score\n",
      "original_nbrs_corr\n",
      "synthetic_nbrs_corr\n"
     ]
    }
   ],
   "source": [
    "print(\"\\n\".join(env.metadata.keys()))"
   ]
  },
  {
   "cell_type": "code",
   "execution_count": 18,
   "metadata": {
    "execution": {
     "iopub.execute_input": "2025-06-19T02:02:37.777845Z",
     "iopub.status.busy": "2025-06-19T02:02:37.777529Z",
     "iopub.status.idle": "2025-06-19T02:02:40.717615Z",
     "shell.execute_reply": "2025-06-19T02:02:40.717070Z",
     "shell.execute_reply.started": "2025-06-19T02:02:37.777825Z"
    }
   },
   "outputs": [],
   "source": [
    "conf_score_list = list()\n",
    "for s in space_envs:\n",
    "    env = SpaceEnv(s)\n",
    "    conf_score_list.extend(list(env.metadata[\"confounding_score_erf\"].values()))\n",
    "conf_score = np.array(conf_score_list, dtype=float)"
   ]
  },
  {
   "cell_type": "code",
   "execution_count": 19,
   "metadata": {
    "execution": {
     "iopub.execute_input": "2025-06-19T02:02:40.718688Z",
     "iopub.status.busy": "2025-06-19T02:02:40.718433Z",
     "iopub.status.idle": "2025-06-19T02:02:40.721836Z",
     "shell.execute_reply": "2025-06-19T02:02:40.721434Z",
     "shell.execute_reply.started": "2025-06-19T02:02:40.718669Z"
    }
   },
   "outputs": [
    {
     "data": {
      "text/plain": [
       "44"
      ]
     },
     "execution_count": 19,
     "metadata": {},
     "output_type": "execute_result"
    }
   ],
   "source": [
    "len(conf_score)"
   ]
  },
  {
   "cell_type": "code",
   "execution_count": 20,
   "metadata": {
    "execution": {
     "iopub.execute_input": "2025-06-19T02:02:45.620253Z",
     "iopub.status.busy": "2025-06-19T02:02:45.619930Z",
     "iopub.status.idle": "2025-06-19T02:02:45.624588Z",
     "shell.execute_reply": "2025-06-19T02:02:45.624118Z",
     "shell.execute_reply.started": "2025-06-19T02:02:45.620233Z"
    }
   },
   "outputs": [
    {
     "name": "stdout",
     "output_type": "stream",
     "text": [
      "min: 0.0018387120217084885\n",
      "q25: 0.00628990912809968\n",
      "median: 0.010905117262154818\n",
      "mean: 0.01643645686139776\n",
      "q75: 0.01976368436589837\n",
      "max: 0.0514945313334465\n"
     ]
    }
   ],
   "source": [
    "print(f\"min: {conf_score.min()}\")\n",
    "print(f\"q25: {np.quantile(conf_score, 0.25)}\")\n",
    "print(f\"median: {np.median(conf_score)}\")\n",
    "print(f\"mean: {conf_score.mean()}\")\n",
    "print(f\"q75: {np.quantile(conf_score, 0.75)}\")\n",
    "print(f\"max: {conf_score.max()}\")"
   ]
  },
  {
   "cell_type": "code",
   "execution_count": 21,
   "metadata": {
    "execution": {
     "iopub.execute_input": "2025-06-19T02:03:17.726553Z",
     "iopub.status.busy": "2025-06-19T02:03:17.726195Z",
     "iopub.status.idle": "2025-06-19T02:03:18.149689Z",
     "shell.execute_reply": "2025-06-19T02:03:18.149162Z",
     "shell.execute_reply.started": "2025-06-19T02:03:17.726530Z"
    }
   },
   "outputs": [
    {
     "data": {
      "image/png": "[encoded data removed]",
      "text/plain": [
       "<Figure size 350x350 with 1 Axes>"
      ]
     },
     "metadata": {
      "image/png": {
       "height": 350,
       "width": 350
      }
     },
     "output_type": "display_data"
    }
   ],
   "source": [
    "# make a histogram of the confounding scores\n",
    "# plt.hist(conf_score, bins=20);\n",
    "\n",
    "# make a histogram of the confounding scores\n",
    "plt.figure(figsize=(3.5, 3.5))\n",
    "plt.hist(conf_score, bins=15, color=\"lightblue\");\n",
    "plt.xlabel(\"confounding scores\")\n",
    "plt.axvline(x=0.031, color=\"red\", linestyle=\"--\", label=\"Proposed easy/hard\\nthreshold\")\n",
    "plt.text(0.04, 10, \"harder\", color=\"black\", fontsize=9, rotation=90)\n",
    "plt.text(0.0, 10, \"easier\", color=\"black\", fontsize=9, rotation=90)\n",
    "plt.grid(False)\n",
    "plt.legend();\n",
    "# plt.savefig(\"scores-conf.png\", bbox_inches=\"tight\")"
   ]
  },
  {
   "cell_type": "markdown",
   "metadata": {},
   "source": [
    "## Summarize Spatial Smoothness"
   ]
  },
  {
   "cell_type": "code",
   "execution_count": 22,
   "metadata": {
    "execution": {
     "iopub.execute_input": "2025-06-19T02:03:37.728243Z",
     "iopub.status.busy": "2025-06-19T02:03:37.727912Z",
     "iopub.status.idle": "2025-06-19T02:03:37.731896Z",
     "shell.execute_reply": "2025-06-19T02:03:37.731448Z",
     "shell.execute_reply.started": "2025-06-19T02:03:37.728221Z"
    }
   },
   "outputs": [
    {
     "data": {
      "text/plain": [
       "11"
      ]
     },
     "execution_count": 22,
     "metadata": {},
     "output_type": "execute_result"
    }
   ],
   "source": [
    "len(env.metadata[\"spatial_scores\"])"
   ]
  },
  {
   "cell_type": "code",
   "execution_count": 23,
   "metadata": {
    "execution": {
     "iopub.execute_input": "2025-06-19T02:03:38.357922Z",
     "iopub.status.busy": "2025-06-19T02:03:38.357591Z",
     "iopub.status.idle": "2025-06-19T02:03:38.361430Z",
     "shell.execute_reply": "2025-06-19T02:03:38.360988Z",
     "shell.execute_reply.started": "2025-06-19T02:03:38.357900Z"
    }
   },
   "outputs": [
    {
     "data": {
      "text/plain": [
       "11"
      ]
     },
     "execution_count": 23,
     "metadata": {},
     "output_type": "execute_result"
    }
   ],
   "source": [
    "len(env.metadata[\"covariate_groups\"])"
   ]
  },
  {
   "cell_type": "code",
   "execution_count": 24,
   "metadata": {
    "execution": {
     "iopub.execute_input": "2025-06-19T02:03:40.039721Z",
     "iopub.status.busy": "2025-06-19T02:03:40.039364Z",
     "iopub.status.idle": "2025-06-19T02:03:42.662016Z",
     "shell.execute_reply": "2025-06-19T02:03:42.661388Z",
     "shell.execute_reply.started": "2025-06-19T02:03:40.039700Z"
    }
   },
   "outputs": [],
   "source": [
    "spatial_score_list = list()\n",
    "for s in space_envs:\n",
    "    env = SpaceEnv(s)\n",
    "    for d in env.make_all():\n",
    "        spatial_score_list.append(d.smoothness_score)\n",
    "spatial_score = np.array(spatial_score_list)\n",
    "spatial_score = spatial_score.astype(float)"
   ]
  },
  {
   "cell_type": "code",
   "execution_count": 25,
   "metadata": {
    "execution": {
     "iopub.execute_input": "2025-06-19T02:03:42.663134Z",
     "iopub.status.busy": "2025-06-19T02:03:42.662895Z",
     "iopub.status.idle": "2025-06-19T02:03:42.666685Z",
     "shell.execute_reply": "2025-06-19T02:03:42.666184Z",
     "shell.execute_reply.started": "2025-06-19T02:03:42.663114Z"
    }
   },
   "outputs": [
    {
     "data": {
      "text/plain": [
       "44"
      ]
     },
     "execution_count": 25,
     "metadata": {},
     "output_type": "execute_result"
    }
   ],
   "source": [
    "len(spatial_score)"
   ]
  },
  {
   "cell_type": "code",
   "execution_count": 26,
   "metadata": {
    "execution": {
     "iopub.execute_input": "2025-06-19T02:03:42.667321Z",
     "iopub.status.busy": "2025-06-19T02:03:42.667162Z",
     "iopub.status.idle": "2025-06-19T02:03:42.671383Z",
     "shell.execute_reply": "2025-06-19T02:03:42.670915Z",
     "shell.execute_reply.started": "2025-06-19T02:03:42.667304Z"
    }
   },
   "outputs": [
    {
     "name": "stdout",
     "output_type": "stream",
     "text": [
      "min: 0.024079878173124958\n",
      "q25: 0.307480398384352\n",
      "median: 0.5009712360081532\n",
      "mean: 0.5079572407487205\n",
      "q75: 0.6994899109913193\n",
      "max: 0.9563439028134079\n"
     ]
    }
   ],
   "source": [
    "print(f\"min: {spatial_score.min()}\")\n",
    "print(f\"q25: {np.quantile(spatial_score, 0.25)}\")\n",
    "print(f\"median: {np.median(spatial_score)}\")\n",
    "print(f\"mean: {spatial_score.mean()}\")\n",
    "print(f\"q75: {np.quantile(spatial_score, 0.75)}\")\n",
    "print(f\"max: {spatial_score.max()}\")"
   ]
  },
  {
   "cell_type": "code",
   "execution_count": 27,
   "metadata": {
    "execution": {
     "iopub.execute_input": "2025-06-19T02:03:42.672468Z",
     "iopub.status.busy": "2025-06-19T02:03:42.672203Z",
     "iopub.status.idle": "2025-06-19T02:03:43.476371Z",
     "shell.execute_reply": "2025-06-19T02:03:43.475732Z",
     "shell.execute_reply.started": "2025-06-19T02:03:42.672451Z"
    }
   },
   "outputs": [
    {
     "data": {
      "image/png": "[encoded data removed]",
      "text/plain": [
       "<Figure size 350x350 with 1 Axes>"
      ]
     },
     "metadata": {
      "image/png": {
       "height": 350,
       "width": 350
      }
     },
     "output_type": "display_data"
    }
   ],
   "source": [
    "# make a histogram of the spatial smoothness scores\n",
    "plt.figure(figsize=(3.5, 3.5))\n",
    "plt.hist(spatial_score, bins=15, color=\"lightblue\")\n",
    "plt.xlabel(\"spatial scores\")\n",
    "plt.axvline(x=0.5, color=\"red\", linestyle=\"--\", label=\"Proposed easy/hard\\nthreshold\")\n",
    "plt.text(0.42, 5, \"harder\", color=\"black\", fontsize=9, rotation=90)\n",
    "plt.text(0.53, 5, \"easier\", color=\"black\", fontsize=9, rotation=90)\n",
    "plt.grid(False)\n",
    "plt.legend();\n",
    "# plt.savefig(\"scores-spatial.png\", bbox_inches=\"tight\")"
   ]
  },
  {
   "cell_type": "markdown",
   "metadata": {},
   "source": [
    "## Number of datasets for each level of difficulty"
   ]
  },
  {
   "cell_type": "code",
   "execution_count": 28,
   "metadata": {
    "execution": {
     "iopub.execute_input": "2025-06-19T02:04:17.816353Z",
     "iopub.status.busy": "2025-06-19T02:04:17.815994Z",
     "iopub.status.idle": "2025-06-19T02:04:17.820177Z",
     "shell.execute_reply": "2025-06-19T02:04:17.819730Z",
     "shell.execute_reply.started": "2025-06-19T02:04:17.816331Z"
    }
   },
   "outputs": [
    {
     "name": "stdout",
     "output_type": "stream",
     "text": [
      "conf.   spatial  #\n",
      "easy    low      18\n",
      "hard    high     4\n",
      "easy    high     18\n",
      "hard    low      4\n"
     ]
    }
   ],
   "source": [
    "print(\"conf.   spatial  #\")\n",
    "print(f\"easy    low      {np.sum((conf_score < 0.03) & (spatial_score < 0.5))}\")\n",
    "print(f\"hard    high     {np.sum((conf_score > 0.03) & (spatial_score > 0.5))}\")\n",
    "print(f\"easy    high     {np.sum((conf_score < 0.03) & (spatial_score > 0.5))}\")\n",
    "print(f\"hard    low      {np.sum((conf_score > 0.03) & (spatial_score < 0.5))}\")\n"
   ]
  },
  {
   "cell_type": "code",
   "execution_count": null,
   "metadata": {},
   "outputs": [],
   "source": []
  }
 ],
 "metadata": {
  "kernelspec": {
   "display_name": "Python (spacedata)",
   "language": "python",
   "name": "spacedata"
  },
  "language_info": {
   "codemirror_mode": {
    "name": "ipython",
    "version": 3
   },
   "file_extension": ".py",
   "mimetype": "text/x-python",
   "name": "python",
   "nbconvert_exporter": "python",
   "pygments_lexer": "ipython3",
   "version": "3.10.16"
  }
 },
 "nbformat": 4,
 "nbformat_minor": 4
}
